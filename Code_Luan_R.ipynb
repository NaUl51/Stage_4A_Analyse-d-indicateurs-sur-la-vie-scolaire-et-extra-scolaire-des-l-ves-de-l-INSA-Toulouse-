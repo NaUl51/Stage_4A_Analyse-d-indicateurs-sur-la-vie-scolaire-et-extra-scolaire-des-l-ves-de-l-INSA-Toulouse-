{
 "cells": [
  {
   "cell_type": "markdown",
   "id": "83ef908e-a1b9-4767-a038-0573c8f8044d",
   "metadata": {},
   "source": [
    "# ANALYSE D'INDICATEURS SUR LA VIE SCOLAIRE ET EXTRA-SCOLAIRE DES ÉLÈVES DE L'INSA TOULOUSE"
   ]
  },
  {
   "cell_type": "markdown",
   "id": "e388eefd-f718-4c49-8a2b-6bc6ba487adf",
   "metadata": {},
   "source": [
    "### I. Objectif\n",
    "\n",
    "Avec pour objectif d'aider tous les étudiants admis à obtenir leur diplôme quelle que soit leur origine sociale ou géographique, ou leur parcours scolaire avant d'entrer à l'INSA. Nous souhaitons donc pouvoir connaître les facteurs qui peuvent affecter la capacité de réussitte des étudiants afin de pouvoir trouver des solutions pour améliorer le taux de réussite des étudiants de l'INSA Toulouse."
   ]
  },
  {
   "cell_type": "markdown",
   "id": "a33450e3-f285-4bcd-9625-1541e56e6eda",
   "metadata": {},
   "source": [
    "    Modélisation du problème :\n",
    "    Tout d'abord, dans le but que tous les étudiants obtiennent leur diplôme, nous allons étudier la variable REDOUBLEMENT par d'autres variables (facteurs affectant les étudiants). Pour les étudiants encore à l'école, cette variable décrit le mieux la probabilité de finir leurs études ou non. Nous voulons identifier les facteurs influençant le redoublement afin de limiter ce phénomène et d'améliorer le taux d'étudiants obtenant leur diplôme ou le faisant dans les délais impartis.\n",
    "    De plus, nous pouvons étudier la variable RATTRAPAGES pour trouver des moyens de limiter les examens de rattrapage ou utiliser la variable CLASSEMENTDERNIER pour examiner quels facteurs aident les étudiants à obtenir de meilleurs résultats. \n",
    "    \n",
    "    \n",
    "**Cependant**, le problème se pose pour la variable CLASSEMENTDERNIER où environ un tiers choisissent \"Je ne sais pas\", ce qui complique le traitement car nous manquons d'informations et, si nous supprimons ces réponses, nous perdons un grand nombre d'observations. De plus, il est très difficile d'obtenir des informations pour les étudiants de première année ou les nouveaux entrants car lors de cette enquête, nous étions au deuxième semestre de l'année scolaire, ce qui signifie qu'ils n'ont passé qu'un semestre. Par conséquent, ils n'ont pas de résultats pour REDOUBLEMENT ou CLASSEMENTDERNIER, et la variable RATTRAPAGES, qui représente la moyenne du nombre de redoublements pendant toute la durée des études, est basée sur un échantillon trop petit. Je pense qu'il serait peut-être possible de séparer ces étudiants dans un jeu de données distinct, et nous analyserions alors les facteurs influençant leur capacité à s'adapter et à s'intégrer aux études à l'INSA Toulouse.\n",
    "    "
   ]
  },
  {
   "cell_type": "markdown",
   "id": "b8adbab2-66c2-45f4-80c2-cf667f743727",
   "metadata": {},
   "source": [
    "## II. Préparer les données."
   ]
  },
  {
   "cell_type": "markdown",
   "id": "8904bccf-7fdd-4d02-9714-83a32ddf0a30",
   "metadata": {},
   "source": [
    "### II.1. Découvrir des données \n",
    "Nous avons les données collectées d'une enquête réalisée par des étudiants de l'INSA Toulouse en mai 2024, effectuée via l'application Limesurvey. Ensuite, nous avons un fichier Excel contenant des lignes représentant chaque étudiant et des colonnes correspondant aux réponses. De plus, nous avons un fichier PDF 'Statistiques rapides' décrivant la distribution des réponses pour chaque question, ce qui nous aide à obtenir une vision plus détaillée des questions et des données que nous avons."
   ]
  },
  {
   "cell_type": "markdown",
   "id": "203c1894-79a6-4789-a7d0-a98a2fdf4cd3",
   "metadata": {},
   "source": [
    "### II.2. Transformer des données "
   ]
  },
  {
   "cell_type": "markdown",
   "id": "db9f49a0-12e5-41a7-9d98-52b7de2deeda",
   "metadata": {},
   "source": [
    "Comme la plupart des questions sont à choix multiples, la réponse à une question ne se trouve pas dans une colonne mais dans plusieurs colonnes. Nous devons donc convertir ces colonnes en une seule colonne."
   ]
  },
  {
   "cell_type": "markdown",
   "id": "4fdbd04c-8fc4-46d5-9b42-172c4ecf40a6",
   "metadata": {},
   "source": [
    "À cette étape, je me suis basé sur les résultats du fichier Excel des trois membres de l'équipe qui ont travaillé sur le projet précédent. Nous utilisons une formule conditionnelle dans Excel ; si la valeur de la colonne est \"oui\", elle renverra le résultat correspondant à la valeur de cette colonne. Cependant, après vérification, j'ai constaté qu'ils n'ont pas pris en compte les données de certaines questions, comme COMMENTAIRE, COURSNOTES(TD), COURSNOTES(TP), CONCENTRATIONPERSO, LOISIRSIMPACT, PREPMETIER, DOUBLEDIPLOME. Ils ont expliqué que cela était dû au fait qu'ils estimaient que ces variables pouvaient avoir une forte corrélation avec une autre variable, ou que ces variables avaient un taux élevé de valeurs non affichées, ou que tous les résultats se concentraient sur une seule valeur, etc. Mais je pense que cela n'est qu'une partie de leur ressenti, car ils n'ont pas utilisé de méthodes théoriques pour vérifier. Je souhaite donc utiliser tous les résultats des questions du sondage, vérifier le taux de données manquantes ou la corrélation des variables, puis les traiter ensuite.\n"
   ]
  },
  {
   "cell_type": "markdown",
   "id": "8f0024bc-5d75-4ac0-918a-d5b55acea844",
   "metadata": {},
   "source": [
    "En outre, pour les questions avec des valeurs de choix \"Autre\", où les répondants devaient entrer leur propre réponse, comme pour LOGEMENTTYPE, nous avons remarqué qu'il n'y avait pas beaucoup de valeurs \"Autre\". Nous avons donc regroupé manuellement ces valeurs \"Autre\" en catégories existantes. Par exemple, \"concubinage\", \"avec ma copine\", \"en couple\", \"avec mon frère\", \"chez un ami\" ont été regroupés sous \"colocation\", et \"CROUS\", \"Logement étudiant\", \"maison individuelle\" ont été regroupés sous \"seul\".\n",
    "\n",
    "De plus, pour la variable DOUBLEDIPLOME, je recode les réponses choisies \"Autre\" en \"Oui\" ou \"Non\". Pour les cas indiquant une demande en cours, un souhait d'étudier ou une intention d'étudier l'année prochaine, je les recode en \"Non\". Selon moi, notre étude se base sur la variable RATTRAPPAGES, la moyenne du nombre de redoublements des semestres déjà étudiés. Par conséquent, si la double diplomation est envisagée dans le futur, cela n'a pas encore d'impact sur la variable cible."
   ]
  },
  {
   "cell_type": "markdown",
   "id": "5c6d45b4-a268-4e15-85a5-cb6ce92b6c71",
   "metadata": {},
   "source": [
    "Voici les résultats obtenus après le traitement des données sur Excel. Le fichier comprend 60 colonnes correspondant à 60 variables (sans compter la colonne ID) et 1182 lignes correspondant aux réponses de 1182 étudiants.\n"
   ]
  },
  {
   "cell_type": "code",
   "execution_count": 1,
   "id": "f2fde7b1-cb89-4292-8bcc-770689f6fd91",
   "metadata": {
    "scrolled": true,
    "tags": []
   },
   "outputs": [
    {
     "name": "stderr",
     "output_type": "stream",
     "text": [
      "\n",
      "Attachement du package : ‘dplyr’\n",
      "\n",
      "\n",
      "Les objets suivants sont masqués depuis ‘package:stats’:\n",
      "\n",
      "    filter, lag\n",
      "\n",
      "\n",
      "Les objets suivants sont masqués depuis ‘package:base’:\n",
      "\n",
      "    intersect, setdiff, setequal, union\n",
      "\n",
      "\n",
      "\n",
      "Attachement du package : ‘rlang’\n",
      "\n",
      "\n",
      "L'objet suivant est masqué depuis ‘package:base’:\n",
      "\n",
      "    %||%\n",
      "\n",
      "\n",
      "\n",
      "Attachement du package : ‘gridExtra’\n",
      "\n",
      "\n",
      "L'objet suivant est masqué depuis ‘package:dplyr’:\n",
      "\n",
      "    combine\n",
      "\n",
      "\n",
      "randomForest 4.7-1.1\n",
      "\n",
      "Type rfNews() to see new features/changes/bug fixes.\n",
      "\n",
      "\n",
      "Attachement du package : ‘randomForest’\n",
      "\n",
      "\n",
      "L'objet suivant est masqué depuis ‘package:gridExtra’:\n",
      "\n",
      "    combine\n",
      "\n",
      "\n",
      "L'objet suivant est masqué depuis ‘package:ggplot2’:\n",
      "\n",
      "    margin\n",
      "\n",
      "\n",
      "L'objet suivant est masqué depuis ‘package:dplyr’:\n",
      "\n",
      "    combine\n",
      "\n",
      "\n",
      "Le chargement a nécessité le package : lattice\n",
      "\n"
     ]
    }
   ],
   "source": [
    "library(readxl) #Pour lire le fichier Excel\n",
    "library(dplyr) #Pour convertir les variables de type 'chr' en type 'factor'\n",
    "library(ggplot2) #Pour créer des graphiques\n",
    "library(rlang) #Pour l'évaluation tidyeval\n",
    "library(gridExtra) # Pour arranger plusieurs graphiques dans une grille\n",
    "library(ggcorrplot) #Pour visualiser la matrice de corrélation.\n",
    "library(reshape2) #Pour manipuler les données\n",
    "library(writexl)\n",
    "library(randomForest)\n",
    "library(caret)  # For cross-validation\n"
   ]
  },
  {
   "cell_type": "code",
   "execution_count": 2,
   "id": "d4ffb20b-4274-44e4-8ed3-5e251d36ed77",
   "metadata": {
    "tags": []
   },
   "outputs": [],
   "source": [
    "# Lire le fichier Excel \"results-survey278778.xlsx\" qui se trouve dans le même répertoire que le script R\n",
    "insa <- read_excel(\"survey_Luan.xlsx\")\n",
    "# Sélectionner les 60 variables\n",
    "insa <- insa[, 2:61]\n"
   ]
  },
  {
   "cell_type": "code",
   "execution_count": 3,
   "id": "abcb107b-3dbd-4178-9acd-4b72f617313a",
   "metadata": {
    "tags": []
   },
   "outputs": [
    {
     "name": "stdout",
     "output_type": "stream",
     "text": [
      "[1] 1182   60\n"
     ]
    }
   ],
   "source": [
    "# Afficher la taille du dataframe\n",
    "print(dim(insa))"
   ]
  },
  {
   "cell_type": "code",
   "execution_count": 4,
   "id": "c364bc80-908f-41e7-a76e-4216b1ef3796",
   "metadata": {
    "tags": []
   },
   "outputs": [
    {
     "name": "stdout",
     "output_type": "stream",
     "text": [
      "tibble [1,182 × 60] (S3: tbl_df/tbl/data.frame)\n",
      " $ TRAJET            : chr [1:1182] \"15-30min\" \"5-15min\" \"0-5min\" \"5-15min\" ...\n",
      " $ LOGEMENTTYPE      : chr [1:1182] \"seul\" \"seul\" \"seul\" \"seul\" ...\n",
      " $ LOGEMENTSURFACE   : chr [1:1182] \"+ 30m2\" \"+ 30m2\" \"10-20m2\" \"+ 30m2\" ...\n",
      " $ LOGEMENTBIEN      : chr [1:1182] \"tout à fait\" \"tout à fait\" \"plutôt oui\" \"tout à fait\" ...\n",
      " $ ACT_PRO           : chr [1:1182] \"aucune\" \"aucune\" \"aucune\" \"aucune\" ...\n",
      " $ BOURSIER          : chr [1:1182] \"echelon 1-3\" \"non\" \"non\" \"non\" ...\n",
      " $ HANDICAP          : chr [1:1182] \"non\" \"non\" \"non\" \"non\" ...\n",
      " $ TIERSTEMPS        : chr [1:1182] \"Non\" \"Non\" \"Non\" \"Non\" ...\n",
      " $ STRESS            : chr [1:1182] \"souvent\" \"souvent\" \"souvent\" \"toujours\" ...\n",
      " $ COMMENTAIRE       : chr [1:1182] \"jamais\" \"parfois\" \"parfois\" \"parfois\" ...\n",
      " $ COMCONSTRUCTIFS   : chr [1:1182] \"pas commentaire\" \"plutôt oui\" \"plutôt oui\" \"plutôt oui\" ...\n",
      " $ ETUDE_SEM         : chr [1:1182] \"0-1h\" \"+4h\" \"1-2h\" \"1-2h\" ...\n",
      " $ ETUDEWE           : chr [1:1182] \"2-4h\" \"2-4h\" \"4-6h\" \"6-8h\" ...\n",
      " $ ETUDEGROUPE       : chr [1:1182] \"jamais\" \"jamais\" \"parfois\" \"parfois\" ...\n",
      " $ ETUDEDEHORS       : chr [1:1182] \"souvent\" \"parfois\" \"parfois\" \"parfois\" ...\n",
      " $ ETUDEDOM          : chr [1:1182] \"parfois\" \"souvent\" \"souvent\" \"toujours\" ...\n",
      " $ PRESENCE_CM       : chr [1:1182] \"Souvent\" \"Toujours\" \"Toujours\" \"Toujours\" ...\n",
      " $ PRESENCE_TD       : chr [1:1182] \"Toujours\" \"Toujours\" \"Toujours\" \"Toujours\" ...\n",
      " $ PRESENCE_TP       : chr [1:1182] \"Toujours\" \"Toujours\" \"Toujours\" \"Toujours\" ...\n",
      " $ CONCENTRATION_CM  : chr [1:1182] \"Très peu concentré.e\" \"Totalement concentré.e\" \"Assez bien concentré.e\" \"Moyennement concentré.e\" ...\n",
      " $ CONCENTRATION_TD  : chr [1:1182] \"Moyennement concentré.e\" \"Totalement concentré.e\" \"Assez bien concentré.e\" \"Assez bien concentré.e\" ...\n",
      " $ CONCENTRATION_TP  : chr [1:1182] \"Assez bien concentré.e\" \"Assez bien concentré.e\" \"Assez bien concentré.e\" \"Assez bien concentré.e\" ...\n",
      " $ PREPCOURS_CM      : chr [1:1182] \"Jamais\" \"Jamais\" \"Parfois\" \"Parfois\" ...\n",
      " $ PREPCOURS_TD      : chr [1:1182] \"Jamais\" \"Souvent\" \"Souvent\" \"Parfois\" ...\n",
      " $ PREPCOURS_TP      : chr [1:1182] \"Jamais\" \"Souvent\" \"Parfois\" \"Souvent\" ...\n",
      " $ COURSNOTES_CM     : chr [1:1182] \"Parfois\" \"Toujours\" \"Souvent\" \"Toujours\" ...\n",
      " $ COURSNOTES_TD     : chr [1:1182] \"Toujours\" \"Toujours\" \"Souvent\" \"Toujours\" ...\n",
      " $ COURSNOTES_TP     : chr [1:1182] \"Parfois\" \"Toujours\" \"Jamais\" \"Toujours\" ...\n",
      " $ REVISIONSDEB      : chr [1:1182] \"2 semaines avant\" \"2 semaines avant\" \"1 mois avant\" \"2 semaines avant\" ...\n",
      " $ CONCENTRATIONPERSO: chr [1:1182] \"pas du tout\" \"très\" \"plutôt oui\" \"moyennement\" ...\n",
      " $ CONDITIONSTRAVAIL : chr [1:1182] \"très bonnes\" \"très bonnes\" \"moyennes\" \"plutôt bonnes\" ...\n",
      " $ RESSOURCES_SUP    : chr [1:1182] \"jamais\" \"régulièrement\" \"très souvent\" \"parfois\" ...\n",
      " $ AMIS              : chr [1:1182] \"régulièrement\" \"régulièrement\" \"jamais\" \"régulièrement\" ...\n",
      " $ FAMILLE           : chr [1:1182] \"parfois\" \"régulièrement\" \"parfois\" \"parfois\" ...\n",
      " $ ISOLEMENT         : chr [1:1182] \"souvent\" \"jamais\" \"parfois\" \"souvent\" ...\n",
      " $ ASSOCIATIF        : chr [1:1182] \"10-15h\" \"0-1h\" \"non\" \"1-5h\" ...\n",
      " $ ASSOCIATIF_POSITIF: chr [1:1182] \"tout à fait\" \"plutôt non\" \"pas d'asso\" \"plutôt oui\" ...\n",
      " $ ASSOCIATIFFATIGUE : chr [1:1182] \"tout à fait\" \"pas du tout\" \"pas d'asso\" \"plutôt non\" ...\n",
      " $ SPORTTEMPS        : chr [1:1182] \"0-1h\" \"3-6h\" \"1-3h\" \"1-3h\" ...\n",
      " $ SPECTACLES        : chr [1:1182] \"jamais\" \"1/mois\" \"jamais\" \"rarement\" ...\n",
      " $ SPECTACLES_POSITIF: chr [1:1182] \"pas de spectacles\" \"plutôt oui\" \"pas de spectacles\" \"tout à fait\" ...\n",
      " $ SORTIEBAR         : chr [1:1182] \"rarement\" \"1/semaine\" \"jamais\" \"jamais\" ...\n",
      " $ DETENTE           : chr [1:1182] \"régulièrement\" \"parfois\" \"parfois\" \"très souvent\" ...\n",
      " $ ECRANS            : chr [1:1182] \"4-6h\" \"1-2h\" \"2-4h\" \"2-4h\" ...\n",
      " $ SOMMEIL           : chr [1:1182] \"plutôt satisfaisante\" \"plutôt satisfaisante\" \"plutôt insatisfaisante\" \"plutôt insatisfaisante\" ...\n",
      " $ ALIMENTATION      : chr [1:1182] \"plutôt non\" \"tout à fait\" \"plutôt non\" \"plutôt oui\" ...\n",
      " $ MOTIVATION        : chr [1:1182] \"plutôt non\" \"tout à fait\" \"plutôt oui\" \"plutôt non\" ...\n",
      " $ SENSATIONREUSSITE : chr [1:1182] \"plutôt non\" \"tout à fait\" \"plutôt oui\" \"plutôt oui\" ...\n",
      " $ ADEQUATION        : chr [1:1182] \"plutôt oui\" \"tout à fait\" \"plutôt oui\" \"plutôt non\" ...\n",
      " $ PREPMETIER        : chr [1:1182] \"plutôt oui\" \"tout à fait\" \"plutôt oui\" \"plutôt oui\" ...\n",
      " $ PROMO             : chr [1:1182] \"4A\" \"4A\" \"4A\" \"4A\" ...\n",
      " $ SPECIALITE        : chr [1:1182] \"GMM\" \"GMM\" \"GMM\" \"GB\" ...\n",
      " $ COHORTE           : chr [1:1182] \"classique\" \"classique\" \"classique\" \"classique\" ...\n",
      " $ DOUBLEDIPLOME     : chr [1:1182] \"non\" \"oui\" \"non\" \"non\" ...\n",
      " $ INTEGRATION       : chr [1:1182] \"3A\" \"post-bac\" \"1A\" \"post-bac\" ...\n",
      " $ BACTYPE           : chr [1:1182] \"Fr\" \"Fr\" \"Fr\" \"Fr\" ...\n",
      " $ CLASSEMENT1A      : chr [1:1182] \"pas de classement\" \"0-10%\" \"50-75%\" \"25-50%\" ...\n",
      " $ CLASSEMENTDERNIER : chr [1:1182] \"25-50%\" \"0-10%\" \"25-50%\" \"10-25%\" ...\n",
      " $ REDOUBLEMENT      : chr [1:1182] \"Non\" \"Non\" \"Non\" \"Non\" ...\n",
      " $ RATTRAPAGES       : chr [1:1182] \"aucun\" \"aucun\" \"aucun\" \"aucun\" ...\n",
      "NULL\n"
     ]
    }
   ],
   "source": [
    "# Afficher les premières lignes du dataframe\n",
    "print(str(insa))"
   ]
  },
  {
   "cell_type": "markdown",
   "id": "bfa77ba2-70f3-4770-a4b6-ec8e603eae02",
   "metadata": {},
   "source": [
    "    Nous constatons que les valeurs des variables sont encodées sous forme de chr[] alors que nos données devraient être encodées sous forme de facteurs pour les variables qualitatives. Par conséquent, nous allons convertir toutes les variables en facteurs."
   ]
  },
  {
   "cell_type": "code",
   "execution_count": 5,
   "id": "506a6284-7e72-4f3d-85dd-5835a40270d8",
   "metadata": {},
   "outputs": [
    {
     "name": "stdout",
     "output_type": "stream",
     "text": [
      "tibble [1,182 × 60] (S3: tbl_df/tbl/data.frame)\n",
      " $ TRAJET            : Factor w/ 4 levels \"+30min\",\"0-5min\",..: 3 4 2 4 4 4 3 3 2 2 ...\n",
      " $ LOGEMENTTYPE      : Factor w/ 3 levels \"colocation\",\"foyer familial\",..: 3 3 3 3 1 1 3 3 3 3 ...\n",
      " $ LOGEMENTSURFACE   : Factor w/ 5 levels \"- 10m2\",\"+ 30m2\",..: 2 2 3 2 5 5 4 2 3 4 ...\n",
      " $ LOGEMENTBIEN      : Factor w/ 4 levels \"pas du tout\",..: 4 4 3 4 4 4 4 4 3 3 ...\n",
      " $ ACT_PRO           : Factor w/ 5 levels \"aucune\",\"oui +15h\",..: 1 1 1 1 1 3 1 2 1 1 ...\n",
      " $ BOURSIER          : Factor w/ 4 levels \"echelon 0bis\",..: 2 4 4 4 4 4 4 4 1 4 ...\n",
      " $ HANDICAP          : Factor w/ 2 levels \"non\",\"oui\": 1 1 1 1 1 1 1 1 1 2 ...\n",
      " $ TIERSTEMPS        : Factor w/ 2 levels \"Non\",\"Oui\": 1 1 1 1 2 1 1 1 1 2 ...\n",
      " $ STRESS            : Factor w/ 4 levels \"jamais\",\"parfois\",..: 3 3 3 4 3 4 4 3 3 3 ...\n",
      " $ COMMENTAIRE       : Factor w/ 4 levels \"jamais\",\"parfois\",..: 1 2 2 2 2 2 2 2 2 3 ...\n",
      " $ COMCONSTRUCTIFS   : Factor w/ 5 levels \"non\",\"pas commentaire\",..: 2 4 4 4 4 4 4 4 3 4 ...\n",
      " $ ETUDE_SEM         : Factor w/ 5 levels \"+4h\",\"0-1h\",\"0h\",..: 2 1 4 4 2 2 2 5 4 4 ...\n",
      " $ ETUDEWE           : Factor w/ 7 levels \"+8h\",\"0-1h\",\"0h\",..: 5 5 6 7 6 4 4 1 6 6 ...\n",
      " $ ETUDEGROUPE       : Factor w/ 4 levels \"jamais\",\"parfois\",..: 1 1 2 2 2 1 1 2 2 3 ...\n",
      " $ ETUDEDEHORS       : Factor w/ 4 levels \"jamais\",\"parfois\",..: 3 2 2 2 3 3 2 2 1 3 ...\n",
      " $ ETUDEDOM          : Factor w/ 4 levels \"jamais\",\"parfois\",..: 2 3 3 4 1 3 3 4 4 3 ...\n",
      " $ PRESENCE_CM       : Factor w/ 4 levels \"Jamais\",\"Parfois\",..: 3 4 4 4 3 1 2 3 4 4 ...\n",
      " $ PRESENCE_TD       : Factor w/ 4 levels \"Jamais\",\"Parfois\",..: 4 4 4 4 4 1 4 4 4 4 ...\n",
      " $ PRESENCE_TP       : Factor w/ 4 levels \"Jamais\",\"Parfois\",..: 4 4 4 4 4 2 4 4 4 4 ...\n",
      " $ CONCENTRATION_CM  : Factor w/ 4 levels \"Assez bien concentré.e\",..: 4 3 1 2 2 2 4 2 2 2 ...\n",
      " $ CONCENTRATION_TD  : Factor w/ 4 levels \"Assez bien concentré.e\",..: 2 3 1 1 3 1 1 3 1 1 ...\n",
      " $ CONCENTRATION_TP  : Factor w/ 4 levels \"Assez bien concentré.e\",..: 1 1 1 1 3 1 1 3 1 1 ...\n",
      " $ PREPCOURS_CM      : Factor w/ 4 levels \"Jamais\",\"Parfois\",..: 1 1 2 2 1 3 1 1 1 1 ...\n",
      " $ PREPCOURS_TD      : Factor w/ 4 levels \"Jamais\",\"Parfois\",..: 1 3 3 2 2 3 2 2 2 2 ...\n",
      " $ PREPCOURS_TP      : Factor w/ 4 levels \"Jamais\",\"Parfois\",..: 1 3 2 3 4 2 2 3 2 3 ...\n",
      " $ COURSNOTES_CM     : Factor w/ 4 levels \"Jamais\",\"Parfois\",..: 2 4 3 4 2 3 2 3 3 4 ...\n",
      " $ COURSNOTES_TD     : Factor w/ 4 levels \"Jamais\",\"Parfois\",..: 4 4 3 4 4 4 4 4 4 4 ...\n",
      " $ COURSNOTES_TP     : Factor w/ 4 levels \"Jamais\",\"Parfois\",..: 2 4 1 4 4 4 4 4 4 4 ...\n",
      " $ REVISIONSDEB      : Factor w/ 6 levels \"1 mois avant\",..: 3 3 1 3 4 1 2 2 2 2 ...\n",
      " $ CONCENTRATIONPERSO: Factor w/ 4 levels \"moyennement\",..: 2 4 3 1 3 3 1 3 1 3 ...\n",
      " $ CONDITIONSTRAVAIL : Factor w/ 4 levels \"mauvaises\",\"moyennes\",..: 4 4 2 3 3 3 3 4 3 3 ...\n",
      " $ RESSOURCES_SUP    : Factor w/ 4 levels \"jamais\",\"parfois\",..: 1 3 4 2 2 4 3 2 3 2 ...\n",
      " $ AMIS              : Factor w/ 4 levels \"jamais\",\"parfois\",..: 3 3 1 3 4 2 2 2 3 4 ...\n",
      " $ FAMILLE           : Factor w/ 4 levels \"jamais\",\"parfois\",..: 2 3 2 2 2 2 3 1 3 2 ...\n",
      " $ ISOLEMENT         : Factor w/ 4 levels \"jamais\",\"parfois\",..: 3 1 2 3 1 2 3 3 2 1 ...\n",
      " $ ASSOCIATIF        : Factor w/ 7 levels \"+20h\",\"0-1h\",..: 4 2 7 3 6 7 7 7 7 3 ...\n",
      " $ ASSOCIATIF_POSITIF: Factor w/ 5 levels \"pas d'asso\",\"pas du tout\",..: 5 3 1 4 5 1 1 1 1 5 ...\n",
      " $ ASSOCIATIFFATIGUE : Factor w/ 5 levels \"pas d'asso\",\"pas du tout\",..: 5 2 1 3 5 1 1 1 1 3 ...\n",
      " $ SPORTTEMPS        : Factor w/ 5 levels \"+10h\",\"0-1h\",..: 2 4 3 3 2 2 4 4 4 4 ...\n",
      " $ SPECTACLES        : Factor w/ 4 levels \"1/mois\",\"1/semaine\",..: 3 1 3 4 4 4 4 4 4 3 ...\n",
      " $ SPECTACLES_POSITIF: Factor w/ 5 levels \"pas de spectacles\",..: 1 4 1 5 5 5 4 4 5 1 ...\n",
      " $ SORTIEBAR         : Factor w/ 6 levels \"1/mois\",\"1/semaine\",..: 5 2 3 3 1 3 5 5 5 1 ...\n",
      " $ DETENTE           : Factor w/ 4 levels \"jamais\",\"parfois\",..: 3 2 2 4 3 3 2 2 3 3 ...\n",
      " $ ECRANS            : Factor w/ 6 levels \"+8h\",\"0-1h\",\"1-2h\",..: 5 3 4 4 4 6 5 4 4 3 ...\n",
      " $ SOMMEIL           : Factor w/ 4 levels \"plutôt insatisfaisante\",..: 2 2 1 1 1 1 2 1 1 1 ...\n",
      " $ ALIMENTATION      : Factor w/ 4 levels \"pas du tout\",..: 2 4 2 3 3 4 3 3 3 2 ...\n",
      " $ MOTIVATION        : Factor w/ 4 levels \"pas du tout\",..: 2 4 3 2 3 2 3 3 3 3 ...\n",
      " $ SENSATIONREUSSITE : Factor w/ 4 levels \"pas du tout\",..: 2 4 3 3 3 2 3 3 3 3 ...\n",
      " $ ADEQUATION        : Factor w/ 4 levels \"pas du tout\",..: 3 4 3 2 4 3 3 3 3 3 ...\n",
      " $ PREPMETIER        : Factor w/ 4 levels \"pas du tout\",..: 3 4 3 3 4 3 3 3 2 2 ...\n",
      " $ PROMO             : Factor w/ 5 levels \"1A\",\"2A\",\"3A\",..: 4 4 4 4 4 4 3 3 3 3 ...\n",
      " $ SPECIALITE        : Factor w/ 14 levels \"1A\",\"AE\",\"apprentissage\",..: 7 7 7 4 4 4 4 4 4 4 ...\n",
      " $ COHORTE           : Factor w/ 14 levels \"AS_Fr\",\"AS_Hue\",..: 3 3 3 3 3 3 3 3 3 3 ...\n",
      " $ DOUBLEDIPLOME     : Factor w/ 2 levels \"non\",\"oui\": 1 2 1 1 1 1 1 1 1 1 ...\n",
      " $ INTEGRATION       : Factor w/ 5 levels \"1A\",\"2A\",\"3A\",..: 3 5 1 5 3 5 3 2 5 5 ...\n",
      " $ BACTYPE           : Factor w/ 4 levels \"equi_Fr\",\"etranger\",..: 3 3 3 3 3 3 3 4 3 3 ...\n",
      " $ CLASSEMENT1A      : Factor w/ 8 levels \"0-10%\",\"10-25%\",..: 7 1 4 3 7 4 7 7 2 2 ...\n",
      " $ CLASSEMENTDERNIER : Factor w/ 6 levels \"0-10%\",\"10-25%\",..: 3 1 3 2 4 6 6 4 2 2 ...\n",
      " $ REDOUBLEMENT      : Factor w/ 2 levels \"Non\",\"Oui\": 1 1 1 1 2 2 1 1 1 1 ...\n",
      " $ RATTRAPAGES       : Factor w/ 4 levels \"+ de 4 par semestre\",..: 4 4 4 4 2 3 4 4 4 4 ...\n",
      "NULL\n"
     ]
    }
   ],
   "source": [
    "# Convertir toutes les colonnes de type 'chr' en 'factor' avec dplyr\n",
    "insa <- insa %>%\n",
    "  mutate_if(is.character, as.factor)\n",
    "# Afficher la structure du dataframe après convertir\n",
    "print(str(insa))"
   ]
  },
  {
   "cell_type": "markdown",
   "id": "d86aaf93-7482-442e-b893-67148993c68b",
   "metadata": {},
   "source": [
    "    Nous constatons que les variables ont été converties en facteurs, mais l'ordre des modalités est mélangé. Cela rend le suivi de chaque variable difficile et je trouve cela déroutant. Par conséquent, nous devons convertir la variable en facteur avec un ordre spécifique."
   ]
  },
  {
   "cell_type": "code",
   "execution_count": 6,
   "id": "cd49f457-9e14-49e7-a40c-61a73a552655",
   "metadata": {},
   "outputs": [
    {
     "data": {
      "image/png": "[encoded data removed]",
      "text/plain": [
       "plot without title"
      ]
     },
     "metadata": {
      "image/png": {
       "height": 420,
       "width": 420
      }
     },
     "output_type": "display_data"
    }
   ],
   "source": [
    "# Créer le graphique de distribution pour la variable TRAJET\n",
    "p <- ggplot(insa, aes(x = TRAJET)) +\n",
    "  geom_bar() +\n",
    "  geom_text(stat='count', aes(label=after_stat(count)), vjust=-0.5) +\n",
    "  ggtitle(\"Distribution of TRAJET\") +\n",
    "  theme(axis.text.x = element_text(angle = 90, hjust = 1, size = 12),\n",
    "        plot.title = element_text(size = 16))\n",
    "\n",
    "# Afficher le graphique\n",
    "print(p)"
   ]
  },
  {
   "cell_type": "code",
   "execution_count": 7,
   "id": "bc292a17-2e85-4cea-a939-e21d1542b54f",
   "metadata": {},
   "outputs": [
    {
     "data": {
      "image/png": "[encoded data removed]",
      "text/plain": [
       "plot without title"
      ]
     },
     "metadata": {
      "image/png": {
       "height": 420,
       "width": 420
      }
     },
     "output_type": "display_data"
    }
   ],
   "source": [
    "# Convertir la variable en facteur avec un ordre spécifique\n",
    "insa$TRAJET <- factor(insa$TRAJET, levels = c(\"0-5min\", \"5-15min\", \"15-30min\", \"+30min\"))\n",
    "\n",
    "# Créer le graphique de distribution pour la variable TRAJET\n",
    "p <- ggplot(insa, aes(x = TRAJET)) +\n",
    "  geom_bar() +\n",
    "  geom_text(stat='count', aes(label=after_stat(count)), vjust=-0.5) +\n",
    "  ggtitle(\"Distribution of TRAJET\") +\n",
    "  theme(axis.text.x = element_text(angle = 90, hjust = 1, size = 12),\n",
    "        plot.title = element_text(size = 16))\n",
    "\n",
    "# Afficher le graphique\n",
    "print(p)"
   ]
  },
  {
   "cell_type": "markdown",
   "id": "e7ccecd6-1d7d-4b0d-91a8-62528dc541b1",
   "metadata": {},
   "source": [
    "    Nous procéderons de la même manière pour toutes les variables."
   ]
  },
  {
   "cell_type": "code",
   "execution_count": 8,
   "id": "8be6e649-d1ae-4944-bfc4-09fb791f2926",
   "metadata": {},
   "outputs": [
    {
     "name": "stdout",
     "output_type": "stream",
     "text": [
      "tibble [1,182 × 60] (S3: tbl_df/tbl/data.frame)\n",
      " $ TRAJET            : Factor w/ 4 levels \"0-5min\",\"5-15min\",..: 3 2 1 2 2 2 3 3 1 1 ...\n",
      " $ LOGEMENTTYPE      : Factor w/ 3 levels \"seul\",\"colocation\",..: 1 1 1 1 2 2 1 1 1 1 ...\n",
      " $ LOGEMENTSURFACE   : Factor w/ 5 levels \"- 10m2\",\"10-20m2\",..: 4 4 2 4 5 5 3 4 2 3 ...\n",
      " $ LOGEMENTBIEN      : Factor w/ 4 levels \"pas du tout\",..: 4 4 3 4 4 4 4 4 3 3 ...\n",
      " $ ACT_PRO           : Factor w/ 5 levels \"aucune\",\"oui 1-5h\",..: 1 1 1 1 1 2 1 5 1 1 ...\n",
      " $ BOURSIER          : Factor w/ 4 levels \"non\",\"echelon 0bis\",..: 3 1 1 1 1 1 1 1 2 1 ...\n",
      " $ HANDICAP          : Factor w/ 2 levels \"non\",\"oui\": 1 1 1 1 1 1 1 1 1 2 ...\n",
      " $ TIERSTEMPS        : Factor w/ 2 levels \"Non\",\"Oui\": 1 1 1 1 2 1 1 1 1 2 ...\n",
      " $ STRESS            : Factor w/ 4 levels \"jamais\",\"parfois\",..: 3 3 3 4 3 4 4 3 3 3 ...\n",
      " $ COMMENTAIRE       : Factor w/ 4 levels \"jamais\",\"parfois\",..: 1 2 2 2 2 2 2 2 2 3 ...\n",
      " $ COMCONSTRUCTIFS   : Factor w/ 5 levels \"pas commentaire\",..: 1 4 4 4 4 4 4 4 3 4 ...\n",
      " $ ETUDE_SEM         : Factor w/ 5 levels \"0h\",\"0-1h\",\"1-2h\",..: 2 5 3 3 2 2 2 4 3 3 ...\n",
      " $ ETUDEWE           : Factor w/ 7 levels \"0h\",\"0-1h\",\"1-2h\",..: 4 4 5 6 5 3 3 7 5 5 ...\n",
      " $ ETUDEGROUPE       : Factor w/ 4 levels \"jamais\",\"parfois\",..: 1 1 2 2 2 1 1 2 2 3 ...\n",
      " $ ETUDEDEHORS       : Factor w/ 4 levels \"jamais\",\"parfois\",..: 3 2 2 2 3 3 2 2 1 3 ...\n",
      " $ ETUDEDOM          : Factor w/ 4 levels \"jamais\",\"parfois\",..: 2 3 3 4 1 3 3 4 4 3 ...\n",
      " $ PRESENCE_CM       : Factor w/ 4 levels \"Jamais\",\"Parfois\",..: 3 4 4 4 3 1 2 3 4 4 ...\n",
      " $ PRESENCE_TD       : Factor w/ 4 levels \"Jamais\",\"Parfois\",..: 4 4 4 4 4 1 4 4 4 4 ...\n",
      " $ PRESENCE_TP       : Factor w/ 4 levels \"Jamais\",\"Parfois\",..: 4 4 4 4 4 2 4 4 4 4 ...\n",
      " $ CONCENTRATION_CM  : Factor w/ 4 levels \"Très peu concentré.e\",..: 1 4 3 2 2 2 1 2 2 2 ...\n",
      " $ CONCENTRATION_TD  : Factor w/ 4 levels \"Très peu concentré.e\",..: 2 4 3 3 4 3 3 4 3 3 ...\n",
      " $ CONCENTRATION_TP  : Factor w/ 4 levels \"Très peu concentré.e\",..: 3 3 3 3 4 3 3 4 3 3 ...\n",
      " $ PREPCOURS_CM      : Factor w/ 4 levels \"Jamais\",\"Parfois\",..: 1 1 2 2 1 3 1 1 1 1 ...\n",
      " $ PREPCOURS_TD      : Factor w/ 4 levels \"Jamais\",\"Parfois\",..: 1 3 3 2 2 3 2 2 2 2 ...\n",
      " $ PREPCOURS_TP      : Factor w/ 4 levels \"Jamais\",\"Parfois\",..: 1 3 2 3 4 2 2 3 2 3 ...\n",
      " $ COURSNOTES_CM     : Factor w/ 4 levels \"Jamais\",\"Parfois\",..: 2 4 3 4 2 3 2 3 3 4 ...\n",
      " $ COURSNOTES_TD     : Factor w/ 4 levels \"Jamais\",\"Parfois\",..: 4 4 3 4 4 4 4 4 4 4 ...\n",
      " $ COURSNOTES_TP     : Factor w/ 4 levels \"Jamais\",\"Parfois\",..: 2 4 1 4 4 4 4 4 4 4 ...\n",
      " $ REVISIONSDEB      : Factor w/ 6 levels \"semestre\",\"1 mois avant\",..: 3 3 2 3 5 2 4 4 4 4 ...\n",
      " $ CONCENTRATIONPERSO: Factor w/ 4 levels \"pas du tout\",..: 1 4 3 2 3 3 2 3 2 3 ...\n",
      " $ CONDITIONSTRAVAIL : Factor w/ 4 levels \"mauvaises\",\"moyennes\",..: 4 4 2 3 3 3 3 4 3 3 ...\n",
      " $ RESSOURCES_SUP    : Factor w/ 4 levels \"jamais\",\"parfois\",..: 1 3 4 2 2 4 3 2 3 2 ...\n",
      " $ AMIS              : Factor w/ 4 levels \"jamais\",\"parfois\",..: 3 3 1 3 4 2 2 2 3 4 ...\n",
      " $ FAMILLE           : Factor w/ 4 levels \"jamais\",\"parfois\",..: 2 3 2 2 2 2 3 1 3 2 ...\n",
      " $ ISOLEMENT         : Factor w/ 4 levels \"jamais\",\"parfois\",..: 3 1 2 3 1 2 3 3 2 1 ...\n",
      " $ ASSOCIATIF        : Factor w/ 7 levels \"non\",\"0-1h\",\"1-5h\",..: 5 2 1 3 4 1 1 1 1 3 ...\n",
      " $ ASSOCIATIF_POSITIF: Factor w/ 5 levels \"pas d'asso\",\"pas du tout\",..: 5 3 1 4 5 1 1 1 1 5 ...\n",
      " $ ASSOCIATIFFATIGUE : Factor w/ 5 levels \"pas d'asso\",\"pas du tout\",..: 5 2 1 3 5 1 1 1 1 3 ...\n",
      " $ SPORTTEMPS        : Factor w/ 5 levels \"0-1h\",\"1-3h\",..: 1 3 2 2 1 1 3 3 3 3 ...\n",
      " $ SPECTACLES        : Factor w/ 4 levels \"jamais\",\"rarement\",..: 1 3 1 2 2 2 2 2 2 1 ...\n",
      " $ SPECTACLES_POSITIF: Factor w/ 5 levels \"pas de spectacles\",..: 1 4 1 5 5 5 4 4 5 1 ...\n",
      " $ SORTIEBAR         : Factor w/ 6 levels \"jamais\",\"rarement\",..: 2 4 1 1 3 1 2 2 2 3 ...\n",
      " $ DETENTE           : Factor w/ 4 levels \"jamais\",\"parfois\",..: 3 2 2 4 3 3 2 2 3 3 ...\n",
      " $ ECRANS            : Factor w/ 6 levels \"0-1h\",\"1-2h\",..: 4 2 3 3 3 5 4 3 3 2 ...\n",
      " $ SOMMEIL           : Factor w/ 4 levels \"très insatisfaisante\",..: 3 3 2 2 2 2 3 2 2 2 ...\n",
      " $ ALIMENTATION      : Factor w/ 4 levels \"pas du tout\",..: 2 4 2 3 3 4 3 3 3 2 ...\n",
      " $ MOTIVATION        : Factor w/ 4 levels \"pas du tout\",..: 2 4 3 2 3 2 3 3 3 3 ...\n",
      " $ SENSATIONREUSSITE : Factor w/ 4 levels \"pas du tout\",..: 2 4 3 3 3 2 3 3 3 3 ...\n",
      " $ ADEQUATION        : Factor w/ 4 levels \"pas du tout\",..: 3 4 3 2 4 3 3 3 3 3 ...\n",
      " $ PREPMETIER        : Factor w/ 4 levels \"pas du tout\",..: 3 4 3 3 4 3 3 3 2 2 ...\n",
      " $ PROMO             : Factor w/ 5 levels \"1A\",\"2A\",\"3A\",..: 4 4 4 4 4 4 3 3 3 3 ...\n",
      " $ SPECIALITE        : Factor w/ 14 levels \"ICBE\",\"IMACS\",..: 9 9 9 5 5 5 5 5 5 5 ...\n",
      " $ COHORTE           : Factor w/ 14 levels \"FAS\",\"NORG\",\"IBER\",..: 14 14 14 14 14 14 14 14 14 14 ...\n",
      " $ DOUBLEDIPLOME     : Factor w/ 2 levels \"non\",\"oui\": 1 2 1 1 1 1 1 1 1 1 ...\n",
      " $ INTEGRATION       : Factor w/ 6 levels \"post-bac\",\"1A\",..: 4 1 2 1 4 1 4 3 1 1 ...\n",
      " $ BACTYPE           : Factor w/ 4 levels \"Fr\",\"Fr_etranger\",..: 1 1 1 1 1 1 1 2 1 1 ...\n",
      " $ CLASSEMENT1A      : Factor w/ 8 levels \"0-10%\",\"10-25%\",..: 8 1 4 3 8 4 8 8 2 2 ...\n",
      " $ CLASSEMENTDERNIER : Factor w/ 6 levels \"0-10%\",\"10-25%\",..: 3 1 3 2 4 6 6 4 2 2 ...\n",
      " $ REDOUBLEMENT      : Factor w/ 2 levels \"Non\",\"Oui\": 1 1 1 1 2 2 1 1 1 1 ...\n",
      " $ RATTRAPAGES       : Factor w/ 4 levels \"aucun\",\"1 par semestre\",..: 1 1 1 1 2 3 1 1 1 1 ...\n"
     ]
    }
   ],
   "source": [
    "levels_list <- list(\n",
    "  TRAJET = c(\"0-5min\", \"5-15min\", \"15-30min\", \"+30min\"),\n",
    "  LOGEMENTTYPE = c(\"seul\", \"colocation\", \"foyer familial\"),\n",
    "  LOGEMENTSURFACE = c(\"- 10m2\", \"10-20m2\", \"20-30m2\", \"+ 30m2\",\"coloc ou foyer familial\"),\n",
    "  LOGEMENTBIEN = c(\"pas du tout\", \"plutôt non\", \"plutôt oui\", \"tout à fait\"),\n",
    "  ACT_PRO = c(\"aucune\", \"oui 1-5h\", \"oui 5-10h\",\"oui 10-15h\", \"oui +15h\"),\n",
    "  BOURSIER = c(\"non\",\"echelon 0bis\", \"echelon 1-3\", \"echelon 4-7\"),\n",
    "  HANDICAP = c(\"non\", \"oui\"),\n",
    "  TIERSTEMPS = c(\"Non\", \"Oui\"),\n",
    "  STRESS = c(\"jamais\", \"parfois\", \"souvent\", \"toujours\"),\n",
    "  COMMENTAIRE = c(\"jamais\", \"parfois\", \"souvent\", \"toujours\"),\n",
    "  COMCONSTRUCTIFS = c(\"pas commentaire\",\"non\", \"plutôt non\", \"plutôt oui\", \"tout à fait\"),\n",
    "  ETUDE_SEM = c(\"0h\", \"0-1h\", \"1-2h\", \"2-4h\", \"+4h\"),\n",
    "  ETUDEWE = c(\"0h\",\"0-1h\",\"1-2h\", \"2-4h\", \"4-6h\", \"6-8h\", \"+8h\"),\n",
    "  ETUDEGROUPE = c(\"jamais\", \"parfois\", \"souvent\", \"toujours\"),\n",
    "  ETUDEDEHORS = c(\"jamais\", \"parfois\", \"souvent\", \"toujours\"),\n",
    "  ETUDEDOM = c(\"jamais\", \"parfois\", \"souvent\", \"toujours\"),\n",
    "  PRESENCE_CM = c(\"Jamais\", \"Parfois\", \"Souvent\", \"Toujours\"),\n",
    "  PRESENCE_TD = c(\"Jamais\", \"Parfois\", \"Souvent\", \"Toujours\"),\n",
    "  PRESENCE_TP = c(\"Jamais\", \"Parfois\", \"Souvent\", \"Toujours\"),\n",
    "  CONCENTRATION_CM = c(\"Très peu concentré.e\", \"Moyennement concentré.e\", \"Assez bien concentré.e\", \"Totalement concentré.e\"),\n",
    "  CONCENTRATION_TD = c(\"Très peu concentré.e\", \"Moyennement concentré.e\", \"Assez bien concentré.e\", \"Totalement concentré.e\"),\n",
    "  CONCENTRATION_TP = c(\"Très peu concentré.e\", \"Moyennement concentré.e\", \"Assez bien concentré.e\", \"Totalement concentré.e\"),\n",
    "  PREPCOURS_CM = c(\"Jamais\", \"Parfois\", \"Souvent\", \"Toujours\"),\n",
    "  PREPCOURS_TD = c(\"Jamais\", \"Parfois\", \"Souvent\", \"Toujours\"),\n",
    "  PREPCOURS_TP = c(\"Jamais\", \"Parfois\", \"Souvent\", \"Toujours\"),\n",
    "  COURSNOTES_CM = c(\"Jamais\", \"Parfois\", \"Souvent\", \"Toujours\"),\n",
    "  COURSNOTES_TD = c(\"Jamais\", \"Parfois\", \"Souvent\", \"Toujours\"),\n",
    "  COURSNOTES_TP = c(\"Jamais\", \"Parfois\", \"Souvent\", \"Toujours\"),\n",
    "  REVISIONSDEB = c(\"semestre\", \"1 mois avant\", \"2 semaines avant\", \"1 semaine avant\", \"3-4 jours avant\", \"la veille\"),\n",
    "  CONCENTRATIONPERSO = c(\"pas du tout\", \"moyennement\", \"plutôt oui\", \"très\"),\n",
    "  CONDITIONSTRAVAIL = c(\"mauvaises\", \"moyennes\", \"plutôt bonnes\", \"très bonnes\"),\n",
    "  RESSOURCES_SUP = c(\"jamais\", \"parfois\", \"régulièrement\", \"très souvent\"),\n",
    "  AMIS = c(\"jamais\", \"parfois\", \"régulièrement\", \"très souvent\"),\n",
    "  FAMILLE = c(\"jamais\", \"parfois\", \"régulièrement\", \"très souvent\"),\n",
    "  ISOLEMENT = c(\"jamais\", \"parfois\", \"souvent\", \"toujours\"),\n",
    "  ASSOCIATIF = c(\"non\", \"0-1h\", \"1-5h\", \"5-10h\", \"10-15h\",\"15-20h\", \"+20h\"),\n",
    "  ASSOCIATIF_POSITIF = c(\"pas d'asso\", \"pas du tout\", \"plutôt non\", \"plutôt oui\", \"tout à fait\"),\n",
    "  ASSOCIATIFFATIGUE = c(\"pas d'asso\", \"pas du tout\", \"plutôt non\", \"plutôt oui\", \"tout à fait\"),\n",
    "  SPORTTEMPS = c(\"0-1h\", \"1-3h\", \"3-6h\", \"6-10h\", \"+10h\"),\n",
    "  SPECTACLES = c(\"jamais\", \"rarement\", \"1/mois\", \"1/semaine\"),\n",
    "  SPECTACLES_POSITIF = c(\"pas de spectacles\", \"pas du tout\", \"plutôt non\", \"plutôt oui\", \"tout à fait\"),\n",
    "  SORTIEBAR = c(\"jamais\", \"rarement\", \"1/mois\", \"1/semaine\", \"plusieurs fois/semaine\", \"tous les jours\"),\n",
    "  DETENTE = c(\"jamais\", \"parfois\", \"régulièrement\", \"très souvent\"),\n",
    "  ECRANS = c(\"0-1h\", \"1-2h\", \"2-4h\", \"4-6h\", \"6-8h\",\"+8h\"),\n",
    "  SOMMEIL = c(\"très insatisfaisante\", \"plutôt insatisfaisante\", \"plutôt satisfaisante\", \"très satisfaisante\"),\n",
    "  ALIMENTATION = c(\"pas du tout\", \"plutôt non\", \"plutôt oui\", \"tout à fait\"),\n",
    "  MOTIVATION = c(\"pas du tout\", \"plutôt non\", \"plutôt oui\", \"tout à fait\"),\n",
    "  SENSATIONREUSSITE = c(\"pas du tout\", \"plutôt non\", \"plutôt oui\", \"tout à fait\"),\n",
    "  ADEQUATION = c(\"pas du tout\", \"plutôt non\", \"plutôt oui\", \"tout à fait\"),\n",
    "  PREPMETIER = c(\"pas du tout\", \"plutôt non\", \"plutôt oui\", \"tout à fait\"),\n",
    "  PROMO = c(\"1A\", \"2A\", \"3A\", \"4A\", \"5A\"),\n",
    "  SPECIALITE = c(\"ICBE\", \"IMACS\", \"MIC\", \"IC\", \"GB\", \"GP3E\", \"GP\", \"AE\", \"GMM\", \"IR\", \"GC\", \"GM\", \"apprentissage\", \"1A\"),\n",
    "  COHORTE = c(\"FAS\", \"NORG\", \"IBER\", \"IBER_Fr\", \"ENG\", \"ENG_Fr\", \"AS_Hue\", \"AS_Fr\", \"SHN\", \"Danse-etude\", \"Musique-etude\", \"Theatre-etude\", \"SupENR\", \"classique\"),\n",
    "  DOUBLEDIPLOME = c(\"non\", \"oui\"),\n",
    "  INTEGRATION = c(\"post-bac\", \"1A\", \"2A\", \"3A\", \"4A\", \"5A\"),\n",
    "  BACTYPE = c(\"Fr\", \"Fr_etranger\", \"equi_Fr\", \"etranger\"),\n",
    "  CLASSEMENT1A = c(\"0-10%\", \"10-25%\", \"25-50%\", \"50-75%\", \"75-100%\", \"redoubl\", \"amenag\", \"pas de classement\"),\n",
    "  CLASSEMENTDERNIER = c(\"0-10%\", \"10-25%\", \"25-50%\", \"50-75%\", \"75-100%\", \"jsp\"),\n",
    "  REDOUBLEMENT = c(\"Non\", \"Oui\"),\n",
    "  RATTRAPAGES = c(\"aucun\", \"1 par semestre\", \"2/3 par semestre\", \"+ de 4 par semestre\")\n",
    ")\n",
    "for (var in names(levels_list)) {\n",
    "  if (var %in% names(insa)) {\n",
    "    insa[[var]] <- factor(insa[[var]], levels = levels_list[[var]])\n",
    "  }\n",
    "}\n",
    "\n",
    "str(insa)\n",
    "\n"
   ]
  },
  {
   "cell_type": "markdown",
   "id": "57531745-cb48-485c-837d-ed25abe7a654",
   "metadata": {},
   "source": [
    "    Nous vérifions s'il y a des valeurs manquantes, ce qui peut nous aider à détecter des fautes d'orthographe lorsque nous réorganisons l'ordre des modalités. "
   ]
  },
  {
   "cell_type": "code",
   "execution_count": 9,
   "id": "1956e79e-45da-4260-a8b0-b17ac65f2708",
   "metadata": {},
   "outputs": [
    {
     "name": "stdout",
     "output_type": "stream",
     "text": [
      "            TRAJET       LOGEMENTTYPE    LOGEMENTSURFACE       LOGEMENTBIEN \n",
      "                 0                  1                  5                  0 \n",
      "           ACT_PRO           BOURSIER           HANDICAP         TIERSTEMPS \n",
      "                 0                  0                  0                  0 \n",
      "            STRESS        COMMENTAIRE    COMCONSTRUCTIFS          ETUDE_SEM \n",
      "                 0                  0                  0                  0 \n",
      "           ETUDEWE        ETUDEGROUPE        ETUDEDEHORS           ETUDEDOM \n",
      "                 0                  0                  0                  0 \n",
      "       PRESENCE_CM        PRESENCE_TD        PRESENCE_TP   CONCENTRATION_CM \n",
      "                 0                  0                  0                  0 \n",
      "  CONCENTRATION_TD   CONCENTRATION_TP       PREPCOURS_CM       PREPCOURS_TD \n",
      "                 0                  0                  0                  0 \n",
      "      PREPCOURS_TP      COURSNOTES_CM      COURSNOTES_TD      COURSNOTES_TP \n",
      "                 0                  0                  0                  0 \n",
      "      REVISIONSDEB CONCENTRATIONPERSO  CONDITIONSTRAVAIL     RESSOURCES_SUP \n",
      "                 0                  0                  0                  0 \n",
      "              AMIS            FAMILLE          ISOLEMENT         ASSOCIATIF \n",
      "                 0                  0                  0                  0 \n",
      "ASSOCIATIF_POSITIF  ASSOCIATIFFATIGUE         SPORTTEMPS         SPECTACLES \n",
      "                 0                  0                  0                  0 \n",
      "SPECTACLES_POSITIF          SORTIEBAR            DETENTE             ECRANS \n",
      "                 0                  0                  0                  0 \n",
      "           SOMMEIL       ALIMENTATION         MOTIVATION  SENSATIONREUSSITE \n",
      "                 0                  0                  0                  0 \n",
      "        ADEQUATION         PREPMETIER              PROMO         SPECIALITE \n",
      "                 0                  0                  0                  0 \n",
      "           COHORTE      DOUBLEDIPLOME        INTEGRATION            BACTYPE \n",
      "                 0                  0                  0                  0 \n",
      "      CLASSEMENT1A  CLASSEMENTDERNIER       REDOUBLEMENT        RATTRAPAGES \n",
      "                 0                  0                  0                 13 \n"
     ]
    }
   ],
   "source": [
    "# Vérifier le nombre de valeurs NA dans chaque variable\n",
    "na_counts <- sapply(insa, function(x) sum(is.na(x)))\n",
    "print(na_counts)"
   ]
  },
  {
   "cell_type": "markdown",
   "id": "af9bb8d0-d392-4dfd-a01e-5947c1f99a0a",
   "metadata": {},
   "source": [
    "    En outre, nous constatons qu'il y a des valeurs manquantes pour deux variables, LOGEMENTTYPE et LOGEMENTSURFACE. Pour la variable LOGEMENTTYPE, il y a une option 'Autre' et un étudiant a rempli 'vélo', que nous considérons comme une valeur manquante. De plus, nous avons divisé les résultats de la variable LOGEMENTTYPE en valeurs disponibles, parmi lesquelles 5 valeurs sont classées sous 'seul'. Cependant, lorsque l'option 'Autre' est choisie, il n'y a pas de question sur LOGEMENTSURFACE. Par conséquent, les 5 personnes qui ont choisi 'Autre' de type 'seul' n'ont pas de valeur pour LOGEMENTSURFACE.\n",
    "\n",
    "    Comme le nombre de valeurs manquantes est faible, nous allons supprimer les individus contenant des valeurs manquantes (nous pourrions utiliser des méthodes telles que calculer la moyenne ou la Random Forest pour imputer la valeur de LOGEMENTSURFACE, mais avec 5 données manquantes sur 1182 (soit 0,423%), nous pouvons les supprimer)."
   ]
  },
  {
   "cell_type": "code",
   "execution_count": 10,
   "id": "9266d5c9-cde7-4b89-8345-21e752d5eb93",
   "metadata": {},
   "outputs": [
    {
     "name": "stdout",
     "output_type": "stream",
     "text": [
      "tibble [1,163 × 60] (S3: tbl_df/tbl/data.frame)\n",
      " $ TRAJET            : Factor w/ 4 levels \"0-5min\",\"5-15min\",..: 3 2 1 2 2 2 3 3 1 1 ...\n",
      " $ LOGEMENTTYPE      : Factor w/ 3 levels \"seul\",\"colocation\",..: 1 1 1 1 2 2 1 1 1 1 ...\n",
      " $ LOGEMENTSURFACE   : Factor w/ 5 levels \"- 10m2\",\"10-20m2\",..: 4 4 2 4 5 5 3 4 2 3 ...\n",
      " $ LOGEMENTBIEN      : Factor w/ 4 levels \"pas du tout\",..: 4 4 3 4 4 4 4 4 3 3 ...\n",
      " $ ACT_PRO           : Factor w/ 5 levels \"aucune\",\"oui 1-5h\",..: 1 1 1 1 1 2 1 5 1 1 ...\n",
      " $ BOURSIER          : Factor w/ 4 levels \"non\",\"echelon 0bis\",..: 3 1 1 1 1 1 1 1 2 1 ...\n",
      " $ HANDICAP          : Factor w/ 2 levels \"non\",\"oui\": 1 1 1 1 1 1 1 1 1 2 ...\n",
      " $ TIERSTEMPS        : Factor w/ 2 levels \"Non\",\"Oui\": 1 1 1 1 2 1 1 1 1 2 ...\n",
      " $ STRESS            : Factor w/ 4 levels \"jamais\",\"parfois\",..: 3 3 3 4 3 4 4 3 3 3 ...\n",
      " $ COMMENTAIRE       : Factor w/ 4 levels \"jamais\",\"parfois\",..: 1 2 2 2 2 2 2 2 2 3 ...\n",
      " $ COMCONSTRUCTIFS   : Factor w/ 5 levels \"pas commentaire\",..: 1 4 4 4 4 4 4 4 3 4 ...\n",
      " $ ETUDE_SEM         : Factor w/ 5 levels \"0h\",\"0-1h\",\"1-2h\",..: 2 5 3 3 2 2 2 4 3 3 ...\n",
      " $ ETUDEWE           : Factor w/ 7 levels \"0h\",\"0-1h\",\"1-2h\",..: 4 4 5 6 5 3 3 7 5 5 ...\n",
      " $ ETUDEGROUPE       : Factor w/ 4 levels \"jamais\",\"parfois\",..: 1 1 2 2 2 1 1 2 2 3 ...\n",
      " $ ETUDEDEHORS       : Factor w/ 4 levels \"jamais\",\"parfois\",..: 3 2 2 2 3 3 2 2 1 3 ...\n",
      " $ ETUDEDOM          : Factor w/ 4 levels \"jamais\",\"parfois\",..: 2 3 3 4 1 3 3 4 4 3 ...\n",
      " $ PRESENCE_CM       : Factor w/ 4 levels \"Jamais\",\"Parfois\",..: 3 4 4 4 3 1 2 3 4 4 ...\n",
      " $ PRESENCE_TD       : Factor w/ 4 levels \"Jamais\",\"Parfois\",..: 4 4 4 4 4 1 4 4 4 4 ...\n",
      " $ PRESENCE_TP       : Factor w/ 4 levels \"Jamais\",\"Parfois\",..: 4 4 4 4 4 2 4 4 4 4 ...\n",
      " $ CONCENTRATION_CM  : Factor w/ 4 levels \"Très peu concentré.e\",..: 1 4 3 2 2 2 1 2 2 2 ...\n",
      " $ CONCENTRATION_TD  : Factor w/ 4 levels \"Très peu concentré.e\",..: 2 4 3 3 4 3 3 4 3 3 ...\n",
      " $ CONCENTRATION_TP  : Factor w/ 4 levels \"Très peu concentré.e\",..: 3 3 3 3 4 3 3 4 3 3 ...\n",
      " $ PREPCOURS_CM      : Factor w/ 4 levels \"Jamais\",\"Parfois\",..: 1 1 2 2 1 3 1 1 1 1 ...\n",
      " $ PREPCOURS_TD      : Factor w/ 4 levels \"Jamais\",\"Parfois\",..: 1 3 3 2 2 3 2 2 2 2 ...\n",
      " $ PREPCOURS_TP      : Factor w/ 4 levels \"Jamais\",\"Parfois\",..: 1 3 2 3 4 2 2 3 2 3 ...\n",
      " $ COURSNOTES_CM     : Factor w/ 4 levels \"Jamais\",\"Parfois\",..: 2 4 3 4 2 3 2 3 3 4 ...\n",
      " $ COURSNOTES_TD     : Factor w/ 4 levels \"Jamais\",\"Parfois\",..: 4 4 3 4 4 4 4 4 4 4 ...\n",
      " $ COURSNOTES_TP     : Factor w/ 4 levels \"Jamais\",\"Parfois\",..: 2 4 1 4 4 4 4 4 4 4 ...\n",
      " $ REVISIONSDEB      : Factor w/ 6 levels \"semestre\",\"1 mois avant\",..: 3 3 2 3 5 2 4 4 4 4 ...\n",
      " $ CONCENTRATIONPERSO: Factor w/ 4 levels \"pas du tout\",..: 1 4 3 2 3 3 2 3 2 3 ...\n",
      " $ CONDITIONSTRAVAIL : Factor w/ 4 levels \"mauvaises\",\"moyennes\",..: 4 4 2 3 3 3 3 4 3 3 ...\n",
      " $ RESSOURCES_SUP    : Factor w/ 4 levels \"jamais\",\"parfois\",..: 1 3 4 2 2 4 3 2 3 2 ...\n",
      " $ AMIS              : Factor w/ 4 levels \"jamais\",\"parfois\",..: 3 3 1 3 4 2 2 2 3 4 ...\n",
      " $ FAMILLE           : Factor w/ 4 levels \"jamais\",\"parfois\",..: 2 3 2 2 2 2 3 1 3 2 ...\n",
      " $ ISOLEMENT         : Factor w/ 4 levels \"jamais\",\"parfois\",..: 3 1 2 3 1 2 3 3 2 1 ...\n",
      " $ ASSOCIATIF        : Factor w/ 7 levels \"non\",\"0-1h\",\"1-5h\",..: 5 2 1 3 4 1 1 1 1 3 ...\n",
      " $ ASSOCIATIF_POSITIF: Factor w/ 5 levels \"pas d'asso\",\"pas du tout\",..: 5 3 1 4 5 1 1 1 1 5 ...\n",
      " $ ASSOCIATIFFATIGUE : Factor w/ 5 levels \"pas d'asso\",\"pas du tout\",..: 5 2 1 3 5 1 1 1 1 3 ...\n",
      " $ SPORTTEMPS        : Factor w/ 5 levels \"0-1h\",\"1-3h\",..: 1 3 2 2 1 1 3 3 3 3 ...\n",
      " $ SPECTACLES        : Factor w/ 4 levels \"jamais\",\"rarement\",..: 1 3 1 2 2 2 2 2 2 1 ...\n",
      " $ SPECTACLES_POSITIF: Factor w/ 5 levels \"pas de spectacles\",..: 1 4 1 5 5 5 4 4 5 1 ...\n",
      " $ SORTIEBAR         : Factor w/ 6 levels \"jamais\",\"rarement\",..: 2 4 1 1 3 1 2 2 2 3 ...\n",
      " $ DETENTE           : Factor w/ 4 levels \"jamais\",\"parfois\",..: 3 2 2 4 3 3 2 2 3 3 ...\n",
      " $ ECRANS            : Factor w/ 6 levels \"0-1h\",\"1-2h\",..: 4 2 3 3 3 5 4 3 3 2 ...\n",
      " $ SOMMEIL           : Factor w/ 4 levels \"très insatisfaisante\",..: 3 3 2 2 2 2 3 2 2 2 ...\n",
      " $ ALIMENTATION      : Factor w/ 4 levels \"pas du tout\",..: 2 4 2 3 3 4 3 3 3 2 ...\n",
      " $ MOTIVATION        : Factor w/ 4 levels \"pas du tout\",..: 2 4 3 2 3 2 3 3 3 3 ...\n",
      " $ SENSATIONREUSSITE : Factor w/ 4 levels \"pas du tout\",..: 2 4 3 3 3 2 3 3 3 3 ...\n",
      " $ ADEQUATION        : Factor w/ 4 levels \"pas du tout\",..: 3 4 3 2 4 3 3 3 3 3 ...\n",
      " $ PREPMETIER        : Factor w/ 4 levels \"pas du tout\",..: 3 4 3 3 4 3 3 3 2 2 ...\n",
      " $ PROMO             : Factor w/ 5 levels \"1A\",\"2A\",\"3A\",..: 4 4 4 4 4 4 3 3 3 3 ...\n",
      " $ SPECIALITE        : Factor w/ 14 levels \"ICBE\",\"IMACS\",..: 9 9 9 5 5 5 5 5 5 5 ...\n",
      " $ COHORTE           : Factor w/ 14 levels \"FAS\",\"NORG\",\"IBER\",..: 14 14 14 14 14 14 14 14 14 14 ...\n",
      " $ DOUBLEDIPLOME     : Factor w/ 2 levels \"non\",\"oui\": 1 2 1 1 1 1 1 1 1 1 ...\n",
      " $ INTEGRATION       : Factor w/ 6 levels \"post-bac\",\"1A\",..: 4 1 2 1 4 1 4 3 1 1 ...\n",
      " $ BACTYPE           : Factor w/ 4 levels \"Fr\",\"Fr_etranger\",..: 1 1 1 1 1 1 1 2 1 1 ...\n",
      " $ CLASSEMENT1A      : Factor w/ 8 levels \"0-10%\",\"10-25%\",..: 8 1 4 3 8 4 8 8 2 2 ...\n",
      " $ CLASSEMENTDERNIER : Factor w/ 6 levels \"0-10%\",\"10-25%\",..: 3 1 3 2 4 6 6 4 2 2 ...\n",
      " $ REDOUBLEMENT      : Factor w/ 2 levels \"Non\",\"Oui\": 1 1 1 1 2 2 1 1 1 1 ...\n",
      " $ RATTRAPAGES       : Factor w/ 4 levels \"aucun\",\"1 par semestre\",..: 1 1 1 1 2 3 1 1 1 1 ...\n",
      " - attr(*, \"na.action\")= 'omit' Named int [1:19] 82 174 196 445 454 486 497 579 636 665 ...\n",
      "  ..- attr(*, \"names\")= chr [1:19] \"82\" \"174\" \"196\" \"445\" ...\n"
     ]
    }
   ],
   "source": [
    "# Supprimer les lignes contenant des valeurs manquantes\n",
    "insa_cleaned_1 <- na.omit(insa)\n",
    "\n",
    "# Vérifier la structure du dataframe après la suppression des lignes avec des valeurs manquantes\n",
    "str(insa_cleaned_1)\n",
    "\n",
    "write_xlsx(insa_cleaned_1, \"insa_cleaned_1.xlsx\")"
   ]
  },
  {
   "cell_type": "markdown",
   "id": "3f364a21-a3f7-4a5f-8be3-8cd01b7551b2",
   "metadata": {},
   "source": [
    "**Enfin, nous avons un dataframe de 1163x60 correspondant à 1163 individus et 60 variables.**\n"
   ]
  },
  {
   "cell_type": "markdown",
   "id": "dc2b1ec9-c819-488a-9fe4-310489b06ac0",
   "metadata": {},
   "source": [
    "### II.3. Valider des données"
   ]
  },
  {
   "cell_type": "markdown",
   "id": "34d8f196-2299-4761-a891-2a6172e1b8bb",
   "metadata": {},
   "source": [
    "    Maintenant, je veux vérifier qu'il n'y a pas d'erreurs dans le traitement sur Excel. Par conséquent, je vais tracer un graphique de distribution des modalités des variables et le comparer avec le graphique des Statistiques rapides obtenues à partir de l'enquête."
   ]
  },
  {
   "cell_type": "markdown",
   "id": "4e1a29df-2b00-4fc6-b929-047c521fd78d",
   "metadata": {},
   "source": [
    "J'ai essayé d'utiliser la grille pour afficher 3 à 4 images d'affilée, mais cela échoue actuellement, je réessayerai donc plus tard."
   ]
  },
  {
   "cell_type": "code",
   "execution_count": 11,
   "id": "d34f096f-f0c5-4584-8002-5a5c20be472b",
   "metadata": {},
   "outputs": [
    {
     "data": {
      "text/html": [
       "<strong>png:</strong> 2"
      ],
      "text/latex": [
       "\\textbf{png:} 2"
      ],
      "text/markdown": [
       "**png:** 2"
      ],
      "text/plain": [
       "png \n",
       "  2 "
      ]
     },
     "metadata": {},
     "output_type": "display_data"
    }
   ],
   "source": [
    "plot_distribution <- function(df, var) {\n",
    "  p <- ggplot(df, aes(x = !!sym(var))) +\n",
    "    geom_bar() +\n",
    "    geom_text(stat = 'count', aes(label = paste0(round(after_stat(count / sum(count)) * 100, 1), \"%\")), \n",
    "              vjust = -0.5, size = 2.5) +\n",
    "    scale_y_continuous(labels = scales::percent) +\n",
    "    ggtitle(paste(\"Distribution de\", var)) +\n",
    "    theme(axis.text.x = element_text(angle = 60, hjust = 1, size = 8),\n",
    "          plot.title = element_text(size = 12))\n",
    "  return(p)\n",
    "}\n",
    "\n",
    "# Obtenir la liste des variables à partir des noms des colonnes de insa_clean\n",
    "variables_to_plot <- names(insa_cleaned_1)\n",
    "\n",
    "# Créer une liste pour stocker les graphiques\n",
    "plots <- list()\n",
    "\n",
    "# Générer les graphiques pour chaque variable et les ajouter à la liste\n",
    "for (var in variables_to_plot) {\n",
    "  plots[[var]] <- plot_distribution(insa_cleaned_1, var)\n",
    "}\n",
    "\n",
    "# Définir le nombre de colonnes et calculer le nombre de lignes nécessaires\n",
    "ncol <- 4\n",
    "nrow <- ceiling(length(plots) / ncol)\n",
    "\n",
    "# Enregistrer les graphiques dans un fichier PDF\n",
    "pdf(\"distributions.pdf\", width = 16, height = nrow * 7)  # Ajustez la largeur et la hauteur selon vos besoins\n",
    "grid.arrange(grobs = lapply(plots, ggplotGrob), ncol = ncol)\n",
    "dev.off()"
   ]
  },
  {
   "cell_type": "code",
   "execution_count": 12,
   "id": "10ae0810-493e-4123-b70c-b95dc0b87a1c",
   "metadata": {},
   "outputs": [
    {
     "data": {
      "image/png": "[encoded data removed]",
      "text/plain": [
       "plot without title"
      ]
     },
     "metadata": {
      "image/png": {
       "height": 420,
       "width": 420
      }
     },
     "output_type": "display_data"
    }
   ],
   "source": [
    "# Convert PROMO and INTEGRATION to character to avoid factor level issues\n",
    "insa_cleaned_1 <- insa_cleaned_1 %>%\n",
    "  mutate(PROMO = as.character(PROMO),\n",
    "         INTEGRATION = as.character(INTEGRATION))\n",
    "# Créer le Groupe 1 : Etudiants en première année (PROMO = 1A) ou nouveaus entrants (PROMO = INTEGRATION)\n",
    "group1 <- insa_cleaned_1[insa_cleaned_1$PROMO == '1A' | insa_cleaned_1$PROMO == insa_cleaned_1$INTEGRATION, ]\n",
    "\n",
    "# Créer le Groupe 2 : Tous les autres\n",
    "group2 <- insa_cleaned_1[!(insa_cleaned_1$PROMO == '1A' | insa_cleaned_1$PROMO == insa_cleaned_1$INTEGRATION), ]\n",
    "\n",
    "# Calculer la distribution de 'RATTRAPAGES' pour les deux groupes\n",
    "group1_distribution <- prop.table(table(group1$RATTRAPAGES)) * 100\n",
    "group2_distribution <- prop.table(table(group2$RATTRAPAGES)) * 100\n",
    "\n",
    "# Convertir les distributions en data frames pour les graphiques\n",
    "group1_df <- as.data.frame(group1_distribution)\n",
    "group2_df <- as.data.frame(group2_distribution)\n",
    "group1_df$Group <- 'Groupe 1'\n",
    "group2_df$Group <- 'Groupe 2'\n",
    "\n",
    "# Renommer les colonnes pour plus de clarté\n",
    "colnames(group1_df) <- c(\"RATTRAPAGES\", \"Pourcentage\", \"Groupe\")\n",
    "colnames(group2_df) <- c(\"RATTRAPAGES\", \"Pourcentage\", \"Groupe\")\n",
    "\n",
    "# Combiner les data frames\n",
    "combined_df <- rbind(group1_df, group2_df)\n",
    "\n",
    "# Afficher les distributions en utilisant ggplot2\n",
    "ggplot(combined_df, aes(x = RATTRAPAGES, y = Pourcentage, fill = Groupe)) +\n",
    "  geom_bar(stat = 'identity', position = 'dodge') +\n",
    "  geom_text(aes(label = sprintf(\"%.1f%%\", Pourcentage)), \n",
    "            position = position_dodge(width = 0.9), vjust = -0.5) +\n",
    "  labs(title = 'Distribution des Rattrapages par Groupe',\n",
    "       x = 'Rattrapages',\n",
    "       y = 'Pourcentage') +\n",
    "  theme_minimal()"
   ]
  },
  {
   "cell_type": "code",
   "execution_count": 13,
   "id": "91971d8c-d1f9-4d1d-ad3c-966db54b615f",
   "metadata": {},
   "outputs": [
    {
     "name": "stdout",
     "output_type": "stream",
     "text": [
      "                     \n",
      "                      Groupe 1 Groupe 2\n",
      "  aucun                    296      506\n",
      "  1 par semestre            58      155\n",
      "  2/3 par semestre          34       99\n",
      "  + de 4 par semestre        3       12\n",
      "\n",
      "\tPearson's Chi-squared test\n",
      "\n",
      "data:  contingency_table\n",
      "X-squared = 12.896, df = 3, p-value = 0.004867\n",
      "\n"
     ]
    }
   ],
   "source": [
    "# Créer une table de contingence pour les groupes et les catégories de RATTRAPAGES\n",
    "contingency_table <- table(insa_cleaned_1$RATTRAPAGES, \n",
    "                           ifelse(insa_cleaned_1$PROMO == '1A' | insa_cleaned_1$PROMO == insa_cleaned_1$INTEGRATION, 'Groupe 1', 'Groupe 2'))\n",
    "\n",
    "# Afficher la table de contingence\n",
    "print(contingency_table)\n",
    "\n",
    "# Réaliser le test du Chi-Square\n",
    "chi_square_test <- chisq.test(contingency_table)\n",
    "\n",
    "# Afficher les résultats du test\n",
    "print(chi_square_test)\n"
   ]
  },
  {
   "cell_type": "markdown",
   "id": "7108c9ac-f6db-4999-8a1c-a24c244149aa",
   "metadata": {},
   "source": [
    "p-value = 0.004867 < 0.05 => La distribution des RATTRAPAGES dans le groupe 1 et le groupe 2 est différente."
   ]
  },
  {
   "cell_type": "code",
   "execution_count": 14,
   "id": "e49d6d44-3864-48c8-9c43-31c452a7a50b",
   "metadata": {},
   "outputs": [
    {
     "data": {
      "text/html": [
       "<table class=\"dataframe\">\n",
       "<caption>A tibble: 6 × 60</caption>\n",
       "<thead>\n",
       "\t<tr><th scope=col>TRAJET</th><th scope=col>LOGEMENTTYPE</th><th scope=col>LOGEMENTSURFACE</th><th scope=col>LOGEMENTBIEN</th><th scope=col>ACT_PRO</th><th scope=col>BOURSIER</th><th scope=col>HANDICAP</th><th scope=col>TIERSTEMPS</th><th scope=col>STRESS</th><th scope=col>COMMENTAIRE</th><th scope=col>⋯</th><th scope=col>PROMO</th><th scope=col>SPECIALITE</th><th scope=col>COHORTE</th><th scope=col>DOUBLEDIPLOME</th><th scope=col>INTEGRATION</th><th scope=col>BACTYPE</th><th scope=col>CLASSEMENT1A</th><th scope=col>CLASSEMENTDERNIER</th><th scope=col>REDOUBLEMENT</th><th scope=col>RATTRAPAGES</th></tr>\n",
       "\t<tr><th scope=col>&lt;fct&gt;</th><th scope=col>&lt;fct&gt;</th><th scope=col>&lt;fct&gt;</th><th scope=col>&lt;fct&gt;</th><th scope=col>&lt;fct&gt;</th><th scope=col>&lt;fct&gt;</th><th scope=col>&lt;fct&gt;</th><th scope=col>&lt;fct&gt;</th><th scope=col>&lt;fct&gt;</th><th scope=col>&lt;fct&gt;</th><th scope=col>⋯</th><th scope=col>&lt;chr&gt;</th><th scope=col>&lt;fct&gt;</th><th scope=col>&lt;fct&gt;</th><th scope=col>&lt;fct&gt;</th><th scope=col>&lt;chr&gt;</th><th scope=col>&lt;fct&gt;</th><th scope=col>&lt;fct&gt;</th><th scope=col>&lt;fct&gt;</th><th scope=col>&lt;fct&gt;</th><th scope=col>&lt;fct&gt;</th></tr>\n",
       "</thead>\n",
       "<tbody>\n",
       "\t<tr><td>15-30min</td><td>seul      </td><td>20-30m2                </td><td>tout à fait</td><td>aucune  </td><td>non        </td><td>non</td><td>Non</td><td>toujours</td><td>parfois</td><td>⋯</td><td>3A</td><td>GB  </td><td>classique</td><td>non</td><td>3A</td><td>Fr</td><td>pas de classement</td><td>jsp    </td><td>Non</td><td>aucun           </td></tr>\n",
       "\t<tr><td>5-15min </td><td>colocation</td><td>coloc ou foyer familial</td><td>tout à fait</td><td>oui 1-5h</td><td>non        </td><td>non</td><td>Non</td><td>souvent </td><td>parfois</td><td>⋯</td><td>3A</td><td>GB  </td><td>SHN      </td><td>non</td><td>3A</td><td>Fr</td><td>pas de classement</td><td>10-25% </td><td>Non</td><td>2/3 par semestre</td></tr>\n",
       "\t<tr><td>5-15min </td><td>seul      </td><td>20-30m2                </td><td>plutôt oui </td><td>aucune  </td><td>echelon 1-3</td><td>non</td><td>Non</td><td>toujours</td><td>parfois</td><td>⋯</td><td>3A</td><td>ICBE</td><td>classique</td><td>non</td><td>3A</td><td>Fr</td><td>pas de classement</td><td>jsp    </td><td>Non</td><td>aucun           </td></tr>\n",
       "\t<tr><td>5-15min </td><td>seul      </td><td>20-30m2                </td><td>plutôt oui </td><td>aucune  </td><td>non        </td><td>non</td><td>Non</td><td>toujours</td><td>parfois</td><td>⋯</td><td>3A</td><td>ICBE</td><td>classique</td><td>non</td><td>3A</td><td>Fr</td><td>pas de classement</td><td>jsp    </td><td>Non</td><td>aucun           </td></tr>\n",
       "\t<tr><td>15-30min</td><td>seul      </td><td>20-30m2                </td><td>tout à fait</td><td>aucune  </td><td>non        </td><td>non</td><td>Non</td><td>parfois </td><td>jamais </td><td>⋯</td><td>3A</td><td>ICBE</td><td>classique</td><td>non</td><td>3A</td><td>Fr</td><td>pas de classement</td><td>jsp    </td><td>Non</td><td>aucun           </td></tr>\n",
       "\t<tr><td>5-15min </td><td>seul      </td><td>20-30m2                </td><td>tout à fait</td><td>aucune  </td><td>non        </td><td>non</td><td>Non</td><td>parfois </td><td>jamais </td><td>⋯</td><td>3A</td><td>GB  </td><td>classique</td><td>non</td><td>3A</td><td>Fr</td><td>pas de classement</td><td>75-100%</td><td>Oui</td><td>1 par semestre  </td></tr>\n",
       "</tbody>\n",
       "</table>\n"
      ],
      "text/latex": [
       "A tibble: 6 × 60\n",
       "\\begin{tabular}{lllllllllllllllllllll}\n",
       " TRAJET & LOGEMENTTYPE & LOGEMENTSURFACE & LOGEMENTBIEN & ACT\\_PRO & BOURSIER & HANDICAP & TIERSTEMPS & STRESS & COMMENTAIRE & ⋯ & PROMO & SPECIALITE & COHORTE & DOUBLEDIPLOME & INTEGRATION & BACTYPE & CLASSEMENT1A & CLASSEMENTDERNIER & REDOUBLEMENT & RATTRAPAGES\\\\\n",
       " <fct> & <fct> & <fct> & <fct> & <fct> & <fct> & <fct> & <fct> & <fct> & <fct> & ⋯ & <chr> & <fct> & <fct> & <fct> & <chr> & <fct> & <fct> & <fct> & <fct> & <fct>\\\\\n",
       "\\hline\n",
       "\t 15-30min & seul       & 20-30m2                 & tout à fait & aucune   & non         & non & Non & toujours & parfois & ⋯ & 3A & GB   & classique & non & 3A & Fr & pas de classement & jsp     & Non & aucun           \\\\\n",
       "\t 5-15min  & colocation & coloc ou foyer familial & tout à fait & oui 1-5h & non         & non & Non & souvent  & parfois & ⋯ & 3A & GB   & SHN       & non & 3A & Fr & pas de classement & 10-25\\%  & Non & 2/3 par semestre\\\\\n",
       "\t 5-15min  & seul       & 20-30m2                 & plutôt oui  & aucune   & echelon 1-3 & non & Non & toujours & parfois & ⋯ & 3A & ICBE & classique & non & 3A & Fr & pas de classement & jsp     & Non & aucun           \\\\\n",
       "\t 5-15min  & seul       & 20-30m2                 & plutôt oui  & aucune   & non         & non & Non & toujours & parfois & ⋯ & 3A & ICBE & classique & non & 3A & Fr & pas de classement & jsp     & Non & aucun           \\\\\n",
       "\t 15-30min & seul       & 20-30m2                 & tout à fait & aucune   & non         & non & Non & parfois  & jamais  & ⋯ & 3A & ICBE & classique & non & 3A & Fr & pas de classement & jsp     & Non & aucun           \\\\\n",
       "\t 5-15min  & seul       & 20-30m2                 & tout à fait & aucune   & non         & non & Non & parfois  & jamais  & ⋯ & 3A & GB   & classique & non & 3A & Fr & pas de classement & 75-100\\% & Oui & 1 par semestre  \\\\\n",
       "\\end{tabular}\n"
      ],
      "text/markdown": [
       "\n",
       "A tibble: 6 × 60\n",
       "\n",
       "| TRAJET &lt;fct&gt; | LOGEMENTTYPE &lt;fct&gt; | LOGEMENTSURFACE &lt;fct&gt; | LOGEMENTBIEN &lt;fct&gt; | ACT_PRO &lt;fct&gt; | BOURSIER &lt;fct&gt; | HANDICAP &lt;fct&gt; | TIERSTEMPS &lt;fct&gt; | STRESS &lt;fct&gt; | COMMENTAIRE &lt;fct&gt; | ⋯ ⋯ | PROMO &lt;chr&gt; | SPECIALITE &lt;fct&gt; | COHORTE &lt;fct&gt; | DOUBLEDIPLOME &lt;fct&gt; | INTEGRATION &lt;chr&gt; | BACTYPE &lt;fct&gt; | CLASSEMENT1A &lt;fct&gt; | CLASSEMENTDERNIER &lt;fct&gt; | REDOUBLEMENT &lt;fct&gt; | RATTRAPAGES &lt;fct&gt; |\n",
       "|---|---|---|---|---|---|---|---|---|---|---|---|---|---|---|---|---|---|---|---|---|\n",
       "| 15-30min | seul       | 20-30m2                 | tout à fait | aucune   | non         | non | Non | toujours | parfois | ⋯ | 3A | GB   | classique | non | 3A | Fr | pas de classement | jsp     | Non | aucun            |\n",
       "| 5-15min  | colocation | coloc ou foyer familial | tout à fait | oui 1-5h | non         | non | Non | souvent  | parfois | ⋯ | 3A | GB   | SHN       | non | 3A | Fr | pas de classement | 10-25%  | Non | 2/3 par semestre |\n",
       "| 5-15min  | seul       | 20-30m2                 | plutôt oui  | aucune   | echelon 1-3 | non | Non | toujours | parfois | ⋯ | 3A | ICBE | classique | non | 3A | Fr | pas de classement | jsp     | Non | aucun            |\n",
       "| 5-15min  | seul       | 20-30m2                 | plutôt oui  | aucune   | non         | non | Non | toujours | parfois | ⋯ | 3A | ICBE | classique | non | 3A | Fr | pas de classement | jsp     | Non | aucun            |\n",
       "| 15-30min | seul       | 20-30m2                 | tout à fait | aucune   | non         | non | Non | parfois  | jamais  | ⋯ | 3A | ICBE | classique | non | 3A | Fr | pas de classement | jsp     | Non | aucun            |\n",
       "| 5-15min  | seul       | 20-30m2                 | tout à fait | aucune   | non         | non | Non | parfois  | jamais  | ⋯ | 3A | GB   | classique | non | 3A | Fr | pas de classement | 75-100% | Oui | 1 par semestre   |\n",
       "\n"
      ],
      "text/plain": [
       "  TRAJET   LOGEMENTTYPE LOGEMENTSURFACE         LOGEMENTBIEN ACT_PRO \n",
       "1 15-30min seul         20-30m2                 tout à fait  aucune  \n",
       "2 5-15min  colocation   coloc ou foyer familial tout à fait  oui 1-5h\n",
       "3 5-15min  seul         20-30m2                 plutôt oui   aucune  \n",
       "4 5-15min  seul         20-30m2                 plutôt oui   aucune  \n",
       "5 15-30min seul         20-30m2                 tout à fait  aucune  \n",
       "6 5-15min  seul         20-30m2                 tout à fait  aucune  \n",
       "  BOURSIER    HANDICAP TIERSTEMPS STRESS   COMMENTAIRE ⋯ PROMO SPECIALITE\n",
       "1 non         non      Non        toujours parfois     ⋯ 3A    GB        \n",
       "2 non         non      Non        souvent  parfois     ⋯ 3A    GB        \n",
       "3 echelon 1-3 non      Non        toujours parfois     ⋯ 3A    ICBE      \n",
       "4 non         non      Non        toujours parfois     ⋯ 3A    ICBE      \n",
       "5 non         non      Non        parfois  jamais      ⋯ 3A    ICBE      \n",
       "6 non         non      Non        parfois  jamais      ⋯ 3A    GB        \n",
       "  COHORTE   DOUBLEDIPLOME INTEGRATION BACTYPE CLASSEMENT1A     \n",
       "1 classique non           3A          Fr      pas de classement\n",
       "2 SHN       non           3A          Fr      pas de classement\n",
       "3 classique non           3A          Fr      pas de classement\n",
       "4 classique non           3A          Fr      pas de classement\n",
       "5 classique non           3A          Fr      pas de classement\n",
       "6 classique non           3A          Fr      pas de classement\n",
       "  CLASSEMENTDERNIER REDOUBLEMENT RATTRAPAGES     \n",
       "1 jsp               Non          aucun           \n",
       "2 10-25%            Non          2/3 par semestre\n",
       "3 jsp               Non          aucun           \n",
       "4 jsp               Non          aucun           \n",
       "5 jsp               Non          aucun           \n",
       "6 75-100%           Oui          1 par semestre  "
      ]
     },
     "metadata": {},
     "output_type": "display_data"
    },
    {
     "data": {
      "text/html": [
       "<table class=\"dataframe\">\n",
       "<caption>A tibble: 6 × 60</caption>\n",
       "<thead>\n",
       "\t<tr><th scope=col>TRAJET</th><th scope=col>LOGEMENTTYPE</th><th scope=col>LOGEMENTSURFACE</th><th scope=col>LOGEMENTBIEN</th><th scope=col>ACT_PRO</th><th scope=col>BOURSIER</th><th scope=col>HANDICAP</th><th scope=col>TIERSTEMPS</th><th scope=col>STRESS</th><th scope=col>COMMENTAIRE</th><th scope=col>⋯</th><th scope=col>PROMO</th><th scope=col>SPECIALITE</th><th scope=col>COHORTE</th><th scope=col>DOUBLEDIPLOME</th><th scope=col>INTEGRATION</th><th scope=col>BACTYPE</th><th scope=col>CLASSEMENT1A</th><th scope=col>CLASSEMENTDERNIER</th><th scope=col>REDOUBLEMENT</th><th scope=col>RATTRAPAGES</th></tr>\n",
       "\t<tr><th scope=col>&lt;fct&gt;</th><th scope=col>&lt;fct&gt;</th><th scope=col>&lt;fct&gt;</th><th scope=col>&lt;fct&gt;</th><th scope=col>&lt;fct&gt;</th><th scope=col>&lt;fct&gt;</th><th scope=col>&lt;fct&gt;</th><th scope=col>&lt;fct&gt;</th><th scope=col>&lt;fct&gt;</th><th scope=col>&lt;fct&gt;</th><th scope=col>⋯</th><th scope=col>&lt;chr&gt;</th><th scope=col>&lt;fct&gt;</th><th scope=col>&lt;fct&gt;</th><th scope=col>&lt;fct&gt;</th><th scope=col>&lt;chr&gt;</th><th scope=col>&lt;fct&gt;</th><th scope=col>&lt;fct&gt;</th><th scope=col>&lt;fct&gt;</th><th scope=col>&lt;fct&gt;</th><th scope=col>&lt;fct&gt;</th></tr>\n",
       "</thead>\n",
       "<tbody>\n",
       "\t<tr><td>15-30min</td><td>seul      </td><td>+ 30m2                 </td><td>tout à fait</td><td>aucune  </td><td>echelon 1-3</td><td>non</td><td>Non</td><td>souvent </td><td>jamais </td><td>⋯</td><td>4A</td><td>GMM</td><td>classique</td><td>non</td><td>3A      </td><td>Fr</td><td>pas de classement</td><td>25-50%</td><td>Non</td><td>aucun           </td></tr>\n",
       "\t<tr><td>5-15min </td><td>seul      </td><td>+ 30m2                 </td><td>tout à fait</td><td>aucune  </td><td>non        </td><td>non</td><td>Non</td><td>souvent </td><td>parfois</td><td>⋯</td><td>4A</td><td>GMM</td><td>classique</td><td>oui</td><td>post-bac</td><td>Fr</td><td>0-10%            </td><td>0-10% </td><td>Non</td><td>aucun           </td></tr>\n",
       "\t<tr><td>0-5min  </td><td>seul      </td><td>10-20m2                </td><td>plutôt oui </td><td>aucune  </td><td>non        </td><td>non</td><td>Non</td><td>souvent </td><td>parfois</td><td>⋯</td><td>4A</td><td>GMM</td><td>classique</td><td>non</td><td>1A      </td><td>Fr</td><td>50-75%           </td><td>25-50%</td><td>Non</td><td>aucun           </td></tr>\n",
       "\t<tr><td>5-15min </td><td>seul      </td><td>+ 30m2                 </td><td>tout à fait</td><td>aucune  </td><td>non        </td><td>non</td><td>Non</td><td>toujours</td><td>parfois</td><td>⋯</td><td>4A</td><td>GB </td><td>classique</td><td>non</td><td>post-bac</td><td>Fr</td><td>25-50%           </td><td>10-25%</td><td>Non</td><td>aucun           </td></tr>\n",
       "\t<tr><td>5-15min </td><td>colocation</td><td>coloc ou foyer familial</td><td>tout à fait</td><td>aucune  </td><td>non        </td><td>non</td><td>Oui</td><td>souvent </td><td>parfois</td><td>⋯</td><td>4A</td><td>GB </td><td>classique</td><td>non</td><td>3A      </td><td>Fr</td><td>pas de classement</td><td>50-75%</td><td>Oui</td><td>1 par semestre  </td></tr>\n",
       "\t<tr><td>5-15min </td><td>colocation</td><td>coloc ou foyer familial</td><td>tout à fait</td><td>oui 1-5h</td><td>non        </td><td>non</td><td>Non</td><td>toujours</td><td>parfois</td><td>⋯</td><td>4A</td><td>GB </td><td>classique</td><td>non</td><td>post-bac</td><td>Fr</td><td>50-75%           </td><td>jsp   </td><td>Oui</td><td>2/3 par semestre</td></tr>\n",
       "</tbody>\n",
       "</table>\n"
      ],
      "text/latex": [
       "A tibble: 6 × 60\n",
       "\\begin{tabular}{lllllllllllllllllllll}\n",
       " TRAJET & LOGEMENTTYPE & LOGEMENTSURFACE & LOGEMENTBIEN & ACT\\_PRO & BOURSIER & HANDICAP & TIERSTEMPS & STRESS & COMMENTAIRE & ⋯ & PROMO & SPECIALITE & COHORTE & DOUBLEDIPLOME & INTEGRATION & BACTYPE & CLASSEMENT1A & CLASSEMENTDERNIER & REDOUBLEMENT & RATTRAPAGES\\\\\n",
       " <fct> & <fct> & <fct> & <fct> & <fct> & <fct> & <fct> & <fct> & <fct> & <fct> & ⋯ & <chr> & <fct> & <fct> & <fct> & <chr> & <fct> & <fct> & <fct> & <fct> & <fct>\\\\\n",
       "\\hline\n",
       "\t 15-30min & seul       & + 30m2                  & tout à fait & aucune   & echelon 1-3 & non & Non & souvent  & jamais  & ⋯ & 4A & GMM & classique & non & 3A       & Fr & pas de classement & 25-50\\% & Non & aucun           \\\\\n",
       "\t 5-15min  & seul       & + 30m2                  & tout à fait & aucune   & non         & non & Non & souvent  & parfois & ⋯ & 4A & GMM & classique & oui & post-bac & Fr & 0-10\\%             & 0-10\\%  & Non & aucun           \\\\\n",
       "\t 0-5min   & seul       & 10-20m2                 & plutôt oui  & aucune   & non         & non & Non & souvent  & parfois & ⋯ & 4A & GMM & classique & non & 1A       & Fr & 50-75\\%            & 25-50\\% & Non & aucun           \\\\\n",
       "\t 5-15min  & seul       & + 30m2                  & tout à fait & aucune   & non         & non & Non & toujours & parfois & ⋯ & 4A & GB  & classique & non & post-bac & Fr & 25-50\\%            & 10-25\\% & Non & aucun           \\\\\n",
       "\t 5-15min  & colocation & coloc ou foyer familial & tout à fait & aucune   & non         & non & Oui & souvent  & parfois & ⋯ & 4A & GB  & classique & non & 3A       & Fr & pas de classement & 50-75\\% & Oui & 1 par semestre  \\\\\n",
       "\t 5-15min  & colocation & coloc ou foyer familial & tout à fait & oui 1-5h & non         & non & Non & toujours & parfois & ⋯ & 4A & GB  & classique & non & post-bac & Fr & 50-75\\%            & jsp    & Oui & 2/3 par semestre\\\\\n",
       "\\end{tabular}\n"
      ],
      "text/markdown": [
       "\n",
       "A tibble: 6 × 60\n",
       "\n",
       "| TRAJET &lt;fct&gt; | LOGEMENTTYPE &lt;fct&gt; | LOGEMENTSURFACE &lt;fct&gt; | LOGEMENTBIEN &lt;fct&gt; | ACT_PRO &lt;fct&gt; | BOURSIER &lt;fct&gt; | HANDICAP &lt;fct&gt; | TIERSTEMPS &lt;fct&gt; | STRESS &lt;fct&gt; | COMMENTAIRE &lt;fct&gt; | ⋯ ⋯ | PROMO &lt;chr&gt; | SPECIALITE &lt;fct&gt; | COHORTE &lt;fct&gt; | DOUBLEDIPLOME &lt;fct&gt; | INTEGRATION &lt;chr&gt; | BACTYPE &lt;fct&gt; | CLASSEMENT1A &lt;fct&gt; | CLASSEMENTDERNIER &lt;fct&gt; | REDOUBLEMENT &lt;fct&gt; | RATTRAPAGES &lt;fct&gt; |\n",
       "|---|---|---|---|---|---|---|---|---|---|---|---|---|---|---|---|---|---|---|---|---|\n",
       "| 15-30min | seul       | + 30m2                  | tout à fait | aucune   | echelon 1-3 | non | Non | souvent  | jamais  | ⋯ | 4A | GMM | classique | non | 3A       | Fr | pas de classement | 25-50% | Non | aucun            |\n",
       "| 5-15min  | seul       | + 30m2                  | tout à fait | aucune   | non         | non | Non | souvent  | parfois | ⋯ | 4A | GMM | classique | oui | post-bac | Fr | 0-10%             | 0-10%  | Non | aucun            |\n",
       "| 0-5min   | seul       | 10-20m2                 | plutôt oui  | aucune   | non         | non | Non | souvent  | parfois | ⋯ | 4A | GMM | classique | non | 1A       | Fr | 50-75%            | 25-50% | Non | aucun            |\n",
       "| 5-15min  | seul       | + 30m2                  | tout à fait | aucune   | non         | non | Non | toujours | parfois | ⋯ | 4A | GB  | classique | non | post-bac | Fr | 25-50%            | 10-25% | Non | aucun            |\n",
       "| 5-15min  | colocation | coloc ou foyer familial | tout à fait | aucune   | non         | non | Oui | souvent  | parfois | ⋯ | 4A | GB  | classique | non | 3A       | Fr | pas de classement | 50-75% | Oui | 1 par semestre   |\n",
       "| 5-15min  | colocation | coloc ou foyer familial | tout à fait | oui 1-5h | non         | non | Non | toujours | parfois | ⋯ | 4A | GB  | classique | non | post-bac | Fr | 50-75%            | jsp    | Oui | 2/3 par semestre |\n",
       "\n"
      ],
      "text/plain": [
       "  TRAJET   LOGEMENTTYPE LOGEMENTSURFACE         LOGEMENTBIEN ACT_PRO \n",
       "1 15-30min seul         + 30m2                  tout à fait  aucune  \n",
       "2 5-15min  seul         + 30m2                  tout à fait  aucune  \n",
       "3 0-5min   seul         10-20m2                 plutôt oui   aucune  \n",
       "4 5-15min  seul         + 30m2                  tout à fait  aucune  \n",
       "5 5-15min  colocation   coloc ou foyer familial tout à fait  aucune  \n",
       "6 5-15min  colocation   coloc ou foyer familial tout à fait  oui 1-5h\n",
       "  BOURSIER    HANDICAP TIERSTEMPS STRESS   COMMENTAIRE ⋯ PROMO SPECIALITE\n",
       "1 echelon 1-3 non      Non        souvent  jamais      ⋯ 4A    GMM       \n",
       "2 non         non      Non        souvent  parfois     ⋯ 4A    GMM       \n",
       "3 non         non      Non        souvent  parfois     ⋯ 4A    GMM       \n",
       "4 non         non      Non        toujours parfois     ⋯ 4A    GB        \n",
       "5 non         non      Oui        souvent  parfois     ⋯ 4A    GB        \n",
       "6 non         non      Non        toujours parfois     ⋯ 4A    GB        \n",
       "  COHORTE   DOUBLEDIPLOME INTEGRATION BACTYPE CLASSEMENT1A     \n",
       "1 classique non           3A          Fr      pas de classement\n",
       "2 classique oui           post-bac    Fr      0-10%            \n",
       "3 classique non           1A          Fr      50-75%           \n",
       "4 classique non           post-bac    Fr      25-50%           \n",
       "5 classique non           3A          Fr      pas de classement\n",
       "6 classique non           post-bac    Fr      50-75%           \n",
       "  CLASSEMENTDERNIER REDOUBLEMENT RATTRAPAGES     \n",
       "1 25-50%            Non          aucun           \n",
       "2 0-10%             Non          aucun           \n",
       "3 25-50%            Non          aucun           \n",
       "4 10-25%            Non          aucun           \n",
       "5 50-75%            Oui          1 par semestre  \n",
       "6 jsp               Oui          2/3 par semestre"
      ]
     },
     "metadata": {},
     "output_type": "display_data"
    }
   ],
   "source": [
    "# Convert PROMO and INTEGRATION to character to avoid factor level issues\n",
    "insa_cleaned_1 <- insa_cleaned_1 %>%\n",
    "  mutate(PROMO = as.character(PROMO),\n",
    "         INTEGRATION = as.character(INTEGRATION))\n",
    "\n",
    "# Créer le Groupe 1 : PROMO = 1A ou PROMO = INTEGRATION\n",
    "group1 <- insa_cleaned_1 %>%\n",
    "  filter(PROMO == '1A' | PROMO == INTEGRATION)\n",
    "\n",
    "# Créer le Groupe 2 : Tous les autres\n",
    "group2 <- insa_cleaned_1 %>%\n",
    "  filter(!(PROMO == '1A' | PROMO == INTEGRATION))\n",
    "\n",
    "# Afficher les premières lignes des deux dataframes pour vérification\n",
    "head(group1)\n",
    "head(group2)\n",
    "\n",
    "write_xlsx(group1, \"group1.xlsx\")\n",
    "write_xlsx(group2, \"group2.xlsx\")"
   ]
  },
  {
   "cell_type": "code",
   "execution_count": 15,
   "id": "98e37792-a3fc-4592-8bf6-7ef55c5ebed8",
   "metadata": {},
   "outputs": [
    {
     "data": {
      "text/html": [
       "<strong>png:</strong> 2"
      ],
      "text/latex": [
       "\\textbf{png:} 2"
      ],
      "text/markdown": [
       "**png:** 2"
      ],
      "text/plain": [
       "png \n",
       "  2 "
      ]
     },
     "metadata": {},
     "output_type": "display_data"
    }
   ],
   "source": [
    "# Obtenir la liste des variables à partir des noms des colonnes de group1\n",
    "variables_to_plot <- names(group1)\n",
    "\n",
    "# Créer une liste pour stocker les graphiques\n",
    "plots <- list()\n",
    "\n",
    "# Générer les graphiques pour chaque variable et les ajouter à la liste\n",
    "for (var in variables_to_plot) {\n",
    "  plots[[var]] <- plot_distribution(group1, var)\n",
    "}\n",
    "\n",
    "# Définir le nombre de colonnes et calculer le nombre de lignes nécessaires\n",
    "ncol <- 4\n",
    "nrow <- ceiling(length(plots) / ncol)\n",
    "\n",
    "# Enregistrer les graphiques dans un fichier PDF\n",
    "pdf(\"distributions_group_1.pdf\", width = 16, height = nrow * 7)  # Ajustez la largeur et la hauteur selon vos besoins\n",
    "grid.arrange(grobs = lapply(plots, ggplotGrob), ncol = ncol)\n",
    "dev.off()"
   ]
  },
  {
   "cell_type": "code",
   "execution_count": 16,
   "id": "a0e26458-18c9-4673-8ac2-f1b98b0f76e2",
   "metadata": {},
   "outputs": [
    {
     "data": {
      "text/html": [
       "<strong>png:</strong> 2"
      ],
      "text/latex": [
       "\\textbf{png:} 2"
      ],
      "text/markdown": [
       "**png:** 2"
      ],
      "text/plain": [
       "png \n",
       "  2 "
      ]
     },
     "metadata": {},
     "output_type": "display_data"
    }
   ],
   "source": [
    "# Obtenir la liste des variables à partir des noms des colonnes de group2\n",
    "variables_to_plot <- names(group2)\n",
    "\n",
    "# Créer une liste pour stocker les graphiques\n",
    "plots <- list()\n",
    "\n",
    "# Générer les graphiques pour chaque variable et les ajouter à la liste\n",
    "for (var in variables_to_plot) {\n",
    "  plots[[var]] <- plot_distribution(group2, var)\n",
    "}\n",
    "\n",
    "# Définir le nombre de colonnes et calculer le nombre de lignes nécessaires\n",
    "ncol <- 4\n",
    "nrow <- ceiling(length(plots) / ncol)\n",
    "\n",
    "# Enregistrer les graphiques dans un fichier PDF\n",
    "pdf(\"distributions_group_2.pdf\", width = 16, height = nrow * 7)  # Ajustez la largeur et la hauteur selon vos besoins\n",
    "grid.arrange(grobs = lapply(plots, ggplotGrob), ncol = ncol)\n",
    "dev.off()"
   ]
  },
  {
   "cell_type": "code",
   "execution_count": 17,
   "id": "de5a97f2-7583-4e86-b3a7-ccbaaff1e885",
   "metadata": {},
   "outputs": [
    {
     "name": "stdout",
     "output_type": "stream",
     "text": [
      "                \n",
      "                 aucun 1 par semestre 2/3 par semestre + de 4 par semestre\n",
      "  seul             611            158               99                  12\n",
      "  colocation       147             40               26                   1\n",
      "  foyer familial    44             15                8                   2\n"
     ]
    }
   ],
   "source": [
    "# Créer une table de contingence pour LOGEMENTTYPE et RATTRAPAGES\n",
    "contingency_table <- table(insa_cleaned_1$LOGEMENTTYPE, insa_cleaned_1$RATTRAPAGES)\n",
    "\n",
    "# Afficher la table de contingence\n",
    "print(contingency_table)\n"
   ]
  },
  {
   "cell_type": "code",
   "execution_count": 18,
   "id": "1d8d922d-0b60-41e9-8a2f-c6fb0d138a5a",
   "metadata": {},
   "outputs": [
    {
     "name": "stderr",
     "output_type": "stream",
     "text": [
      "Warning message in chisq.test(contingency_table):\n",
      "“L’approximation du Chi-2 est peut-être incorrecte”\n"
     ]
    },
    {
     "name": "stdout",
     "output_type": "stream",
     "text": [
      "\n",
      "\tPearson's Chi-squared test\n",
      "\n",
      "data:  contingency_table\n",
      "X-squared = 3.4887, df = 6, p-value = 0.7455\n",
      "\n"
     ]
    }
   ],
   "source": [
    "# Réaliser le test du Chi-Square\n",
    "chi_square_test <- chisq.test(contingency_table)\n",
    "\n",
    "# Afficher les résultats du test\n",
    "print(chi_square_test)\n"
   ]
  },
  {
   "cell_type": "code",
   "execution_count": 19,
   "id": "0bde0816-1b19-4fd6-a41b-099ac1801f70",
   "metadata": {},
   "outputs": [
    {
     "data": {
      "image/png": "[encoded data removed]",
      "text/plain": [
       "plot without title"
      ]
     },
     "metadata": {
      "image/png": {
       "height": 420,
       "width": 420
      }
     },
     "output_type": "display_data"
    }
   ],
   "source": [
    "# Visualiser la distribution des RATTRAPAGES par LOGEMENTTYPE\n",
    "ggplot(insa_cleaned_1, aes(x = LOGEMENTTYPE, fill = RATTRAPAGES)) +\n",
    "  geom_bar(position = 'fill') +\n",
    "  labs(title = 'Distribution des Rattrapages par Type de Logement',\n",
    "       x = 'Type de Logement',\n",
    "       y = 'Proportion') +\n",
    "  theme_minimal()\n"
   ]
  },
  {
   "cell_type": "code",
   "execution_count": 41,
   "id": "2851df7c-a125-4f54-8fe6-ebdf53ade645",
   "metadata": {},
   "outputs": [
    {
     "name": "stdout",
     "output_type": "stream",
     "text": [
      "\u001b[90m# A tibble: 0 × 2\u001b[39m\n",
      "\u001b[90m# ℹ 2 variables: PROMO <fct>, CLASSEMENTDERNIER <fct>\u001b[39m\n"
     ]
    }
   ],
   "source": [
    "insa1a2a <- insa_cleaned_1 %>%\n",
    "    filter((PROMO == '1A' | PROMO == '2A') & REDOUBLEMENT == 'non') %>%\n",
    "    select(PROMO, CLASSEMENTDERNIER)\n",
    "\n",
    "# Affichage du DataFrame résultant pour vérifier les résultats\n",
    "print(insa1a2a)"
   ]
  },
  {
   "cell_type": "code",
   "execution_count": null,
   "id": "e791bd67-506e-4221-8b42-8e30364deb47",
   "metadata": {},
   "outputs": [],
   "source": []
  },
  {
   "cell_type": "code",
   "execution_count": null,
   "id": "ff049644-1d39-4ec2-aca2-9fb429c03da1",
   "metadata": {},
   "outputs": [],
   "source": []
  },
  {
   "cell_type": "code",
   "execution_count": 19,
   "id": "3eea88df-c423-468e-a473-e80b89d12448",
   "metadata": {},
   "outputs": [
    {
     "data": {
      "text/html": [
       "<style>\n",
       ".list-inline {list-style: none; margin:0; padding: 0}\n",
       ".list-inline>li {display: inline-block}\n",
       ".list-inline>li:not(:last-child)::after {content: \"\\00b7\"; padding: 0 .5ex}\n",
       "</style>\n",
       "<ol class=list-inline><li>391</li><li>60</li></ol>\n"
      ],
      "text/latex": [
       "\\begin{enumerate*}\n",
       "\\item 391\n",
       "\\item 60\n",
       "\\end{enumerate*}\n"
      ],
      "text/markdown": [
       "1. 391\n",
       "2. 60\n",
       "\n",
       "\n"
      ],
      "text/plain": [
       "[1] 391  60"
      ]
     },
     "metadata": {},
     "output_type": "display_data"
    }
   ],
   "source": [
    "dim(group1)"
   ]
  },
  {
   "cell_type": "code",
   "execution_count": 23,
   "id": "d44d24b1-cd0f-4d40-887d-82f0cc4d35fc",
   "metadata": {},
   "outputs": [],
   "source": [
    "# Set up Monte Carlo cross-validation\n",
    "set.seed(123)  # For reproducibility\n",
    "n_iterations <- 100\n",
    "rf_results <- list()\n",
    "var_importance_list <- list()\n",
    "\n",
    "for (i in 1:n_iterations) {\n",
    "  # Split the data into training (80%) and test (20%) sets\n",
    "  trainIndex <- createDataPartition(group1$RATTRAPAGES, p = 0.8, \n",
    "                                    list = FALSE, \n",
    "                                    times = 1)\n",
    "  trainData <- group1[trainIndex,]\n",
    "  testData <- group1[-trainIndex,]\n",
    "  \n",
    "  # Train the Random Forest model\n",
    "  rf_model <- randomForest(RATTRAPAGES ~ ., data = trainData, \n",
    "                           importance = TRUE, \n",
    "                           ntree = 500)\n",
    "  \n",
    "  # Make predictions on the test set\n",
    "  predictions <- predict(rf_model, newdata = testData)\n",
    "  \n",
    "  # Evaluate the model using confusion matrix\n",
    "  conf_matrix <- confusionMatrix(predictions, testData$RATTRAPAGES)\n",
    "  rf_results[[i]] <- conf_matrix\n",
    "  \n",
    "  # Variable importance\n",
    "  var_importance_list[[i]] <- importance(rf_model)\n",
    "}\n"
   ]
  },
  {
   "cell_type": "code",
   "execution_count": 20,
   "id": "db5c3b6c-6fff-4208-8045-6dba3de900f7",
   "metadata": {},
   "outputs": [
    {
     "ename": "ERROR",
     "evalue": "Error in eval(expr, envir, enclos): objet 'rf_results' introuvable\n",
     "output_type": "error",
     "traceback": [
      "Error in eval(expr, envir, enclos): objet 'rf_results' introuvable\nTraceback:\n",
      "1. sapply(rf_results, function(x) x$overall[\"Accuracy\"])",
      "2. lapply(X = X, FUN = FUN, ...)"
     ]
    }
   ],
   "source": [
    "# Combine the results of all iterations\n",
    "accuracy_list <- sapply(rf_results, function(x) x$overall['Accuracy'])\n",
    "mean_accuracy <- mean(accuracy_list)\n",
    "print(paste(\"Mean accuracy over\", n_iterations, \"iterations:\", mean_accuracy))\n",
    "\n",
    "# Calculate average variable importance\n",
    "combined_importance <- Reduce(\"+\", var_importance_list) / n_iterations\n",
    "varImportance <- data.frame(Variables = row.names(combined_importance), \n",
    "                            Importance = round(combined_importance[, \"MeanDecreaseGini\"], 2))\n",
    "\n",
    "# Create a plot for variable importance\n",
    "ggplot(varImportance, aes(x = reorder(Variables, Importance), y = Importance)) +\n",
    "  geom_bar(stat = 'identity') +\n",
    "  coord_flip() +\n",
    "  xlab('Variables') +\n",
    "  ylab('Importance') +\n",
    "  ggtitle('Average Variable Importance from Random Forest Model (Monte Carlo CV)')"
   ]
  },
  {
   "cell_type": "code",
   "execution_count": null,
   "id": "8ca34042-c64a-4f79-8fac-7a28798a3f51",
   "metadata": {},
   "outputs": [],
   "source": []
  },
  {
   "cell_type": "code",
   "execution_count": null,
   "id": "705ff8cd-b2f1-43d1-9280-11e37869b55b",
   "metadata": {},
   "outputs": [],
   "source": []
  },
  {
   "cell_type": "code",
   "execution_count": null,
   "id": "67ae0346-0886-4680-b6aa-5b9da308e372",
   "metadata": {},
   "outputs": [],
   "source": []
  },
  {
   "cell_type": "markdown",
   "id": "10ed56e8-60ac-4009-851a-f0018fc18ffd",
   "metadata": {},
   "source": [
    "    Cependant, je vois un autre problème ici : nous avons des modalités avec des fréquences d'apparition très faibles, par exemple pour les variables LOGEMENTBIEN, ACT_PRO(TRAVAILTEMPS), COMCONSTRUCTIFS(NON), PRESENCE_TD,... Cela rend les estimations des paramètres de ces modalités très instables, entraînant du bruit et un surajustement du modèle. Par conséquent, la mise en commun augmente le nombre d'observations par groupe, aidant ainsi le modèle à apprendre des modèles de manière plus cohérente. De plus, regrouper les variables avec une fréquence faible mais des significations similaires aide à réduire la complexité du modèle, car chaque modalité dans une variable catégorielle crée une nouvelle dimension spatiale lorsqu’elle est codée à l’aide de la méthode de codage one-hot, entraînant une augmentation du nombre de paramètres à apprendre et un risque accru de surajustement.\n",
    "    Par exemple, si nous avons seulement un étudiant qui choisit SORTIEBAR_tous les jours, et que cet étudiant redouble, nous risquons un surajustement car les variables REDOUBLEMENT et SORTIEBAR_tous les jours seraient complètement corrélées."
   ]
  },
  {
   "cell_type": "markdown",
   "id": "8c2aae5a-15f2-4917-aa6c-d580ff103d34",
   "metadata": {},
   "source": [
    "    Après avoir combiné les modalités à faible fréquence et de signification similaire, nos données seront entièrement propres et prêtes pour la construction du modèle."
   ]
  },
  {
   "cell_type": "markdown",
   "id": "ee712202-4c32-429c-8586-739823535685",
   "metadata": {},
   "source": [
    " Le choix du modèle pour l'analyse, nous allons utiliser la méthode Random Forest, car elle n'est pas affectée par la dépendance entre les variables. "
   ]
  },
  {
   "cell_type": "code",
   "execution_count": 36,
   "id": "703ca832-2375-4e69-aaeb-d4af0918031c",
   "metadata": {},
   "outputs": [],
   "source": [
    "insa1_selected <- insa1 %>%\n",
    "  select(ID,PROMO, INTEGRATION,`RATTRAPAGES[other]`) %>%\n",
    "  filter(!is.na(`RATTRAPAGES[other]`))\n",
    "\n",
    "write_xlsx(insa1_selected, \"insa_recoder_rattrapages.xlsx\")\n"
   ]
  },
  {
   "cell_type": "code",
   "execution_count": null,
   "id": "b03bd9cd-d285-466a-a8dd-e19ed06233b4",
   "metadata": {},
   "outputs": [],
   "source": []
  },
  {
   "cell_type": "code",
   "execution_count": null,
   "id": "41695f0d-a760-4584-a2e6-5ed90e76e8e0",
   "metadata": {},
   "outputs": [],
   "source": []
  },
  {
   "cell_type": "markdown",
   "id": "c72129cf-a135-406c-9097-cc331bb25d4a",
   "metadata": {},
   "source": []
  },
  {
   "cell_type": "markdown",
   "id": "d61eacf6-e413-4709-b94b-10e2c9455578",
   "metadata": {},
   "source": []
  }
 ],
 "metadata": {
  "kernelspec": {
   "display_name": "R",
   "language": "R",
   "name": "ir"
  },
  "language_info": {
   "codemirror_mode": "r",
   "file_extension": ".r",
   "mimetype": "text/x-r-source",
   "name": "R",
   "pygments_lexer": "r",
   "version": "4.4.1"
  }
 },
 "nbformat": 4,
 "nbformat_minor": 5
}
