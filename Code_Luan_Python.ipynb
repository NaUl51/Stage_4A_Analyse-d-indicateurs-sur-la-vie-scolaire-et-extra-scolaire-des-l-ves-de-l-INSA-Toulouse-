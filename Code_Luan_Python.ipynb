{
 "cells": [
  {
   "cell_type": "markdown",
   "id": "005aff6f-4194-4be5-acdf-5d691fd47cf8",
   "metadata": {},
   "source": [
    "## ANALYSE D'INDICATEURS SUR LA VIE SCOLAIRE ET EXTRA-SCOLAIRE DES ÉLÈVES DE L'INSA TOULOUSE"
   ]
  },
  {
   "cell_type": "markdown",
   "id": "1b27da64-25d7-40b4-80eb-06c48ea392b4",
   "metadata": {},
   "source": [
    "### I. Objectif\n",
    "\n",
    "Avec pour objectif d'aider tous les étudiants admis à obtenir leur diplôme quelle que soit leur origine sociale ou géographique, ou leur parcours scolaire avant d'entrer à l'INSA. Nous souhaitons donc pouvoir connaître les facteurs qui peuvent affecter la capacité de réussitte des étudiants afin de pouvoir trouver des solutions pour améliorer le taux de réussite des étudiants de l'INSA Toulouse."
   ]
  },
  {
   "cell_type": "markdown",
   "id": "7984cfd8-fbc3-44cd-aaa8-2b34f5054c06",
   "metadata": {},
   "source": [
    "### II. Traitement de données"
   ]
  },
  {
   "cell_type": "markdown",
   "id": "8b101f68-0cbc-4ae3-9769-70591fc82d1e",
   "metadata": {},
   "source": [
    "Nous avons les données collectées d'une enquête réalisée par des étudiants de l'INSA Toulouse en mai 2024, effectuée via l'application Limesurvey. Ensuite, nous avons un fichier Excel contenant des lignes représentant chaque étudiant et des colonnes correspondant aux réponses. Cependant, comme certaines questions sont des QCM, les réponses d'une question ne se trouvent pas dans une seule colonne mais dans plusieurs colonnes. Par conséquent, nous devons transformer ces colonnes en une seule colonne."
   ]
  },
  {
   "cell_type": "code",
   "execution_count": 7,
   "id": "37b07d7c-ea9f-4cb2-831f-ae546c96b492",
   "metadata": {
    "tags": []
   },
   "outputs": [
    {
     "name": "stdout",
     "output_type": "stream",
     "text": [
      "Defaulting to user installation because normal site-packages is not writeable\n",
      "Collecting fuzzywuzzy\n",
      "  Downloading fuzzywuzzy-0.18.0-py2.py3-none-any.whl (18 kB)\n",
      "Installing collected packages: fuzzywuzzy\n",
      "Successfully installed fuzzywuzzy-0.18.0\n",
      "Note: you may need to restart the kernel to use updated packages.\n"
     ]
    }
   ],
   "source": [
    "pip install fuzzywuzzy\n"
   ]
  },
  {
   "cell_type": "code",
   "execution_count": 12,
   "id": "92ae3213-8095-4d9f-aa2e-2db803a8e170",
   "metadata": {
    "tags": []
   },
   "outputs": [],
   "source": [
    "import pandas as pd\n",
    "from fuzzywuzzy import process\n",
    "\n",
    "# Load the Excel file\n",
    "file_path = './results-survey278778.xlsx'\n",
    "data = pd.read_excel(file_path)\n",
    "\n",
    "# Define the function to combine multiple choice columns into a single column\n",
    "def combine_choices(row, choice_cols, choice_labels):\n",
    "    for col, label in zip(choice_cols, choice_labels):\n",
    "        if row[col] == 'Oui':\n",
    "            return label\n",
    "    return 'No response'\n",
    "\n",
    "# Function to handle 'other' responses\n",
    "def handle_other_response(open_response, choices):\n",
    "    best_match, score = process.extractOne(open_response, choices)\n",
    "    if score > 80:  # threshold for a good match\n",
    "        return best_match\n",
    "    return 'Other: ' + open_response\n",
    "\n",
    "# Define questions mapping\n",
    "questions_mapping = {\n",
    "\n",
    "    'LOGEMENTTYPE': {\n",
    "        'columns': ['LOGEMENTTYPE[SQ001]', 'LOGEMENTTYPE[SQ002]', 'LOGEMENTTYPE[SQ003]', 'LOGEMENTTYPE[other]'],\n",
    "        'choices': ['Seul', 'Colocation', 'Foyer familial', 'Autre']\n",
    "    },\n",
    "    }\n",
    "\n",
    "\n",
    "# Process each question and create new combined columns\n",
    "for question, mapping in questions_mapping.items():\n",
    "    data[question] = data.apply(combine_choices, choice_cols=mapping['columns'], choice_labels=mapping['choices'], axis=1)\n",
    "\n",
    "# Handle 'other' responses if any\n",
    "for question, mapping in questions_mapping.items():\n",
    "    if 'Other' in mapping['columns']:\n",
    "        other_column = f'{question}[other]'\n",
    "        if other_column in data.columns:\n",
    "            data[question] = data.apply(lambda row: handle_other_response(row[other_column], mapping['choices']) \n",
    "                                        if row[question] == 'Autre' else row[question], axis=1)\n",
    "\n",
    "\n"
   ]
  },
  {
   "cell_type": "markdown",
   "id": "b9076d03-4df9-4999-a3a1-890a3898da22",
   "metadata": {},
   "source": []
  },
  {
   "cell_type": "markdown",
   "id": "8b84473d-8bf3-4b81-9584-375bfa4d49be",
   "metadata": {},
   "source": []
  },
  {
   "cell_type": "markdown",
   "id": "8f7a02fb-2fcc-492a-94f8-eedb3ab6685a",
   "metadata": {},
   "source": []
  },
  {
   "cell_type": "markdown",
   "id": "c3441111-30bc-40d0-95d2-cb8191a56d43",
   "metadata": {},
   "source": []
  },
  {
   "cell_type": "markdown",
   "id": "24816034-7219-49f8-a798-d7384fe74027",
   "metadata": {},
   "source": []
  },
  {
   "cell_type": "markdown",
   "id": "4ddf78ec-bad7-41d0-994f-a5367a9e8510",
   "metadata": {},
   "source": []
  },
  {
   "cell_type": "markdown",
   "id": "665692a1-d16b-44bc-b407-9234a0c18d64",
   "metadata": {},
   "source": []
  }
 ],
 "metadata": {
  "kernelspec": {
   "display_name": "Python 3 (ipykernel)",
   "language": "python",
   "name": "python3"
  },
  "language_info": {
   "codemirror_mode": {
    "name": "ipython",
    "version": 3
   },
   "file_extension": ".py",
   "mimetype": "text/x-python",
   "name": "python",
   "nbconvert_exporter": "python",
   "pygments_lexer": "ipython3",
   "version": "3.11.3"
  }
 },
 "nbformat": 4,
 "nbformat_minor": 5
}
