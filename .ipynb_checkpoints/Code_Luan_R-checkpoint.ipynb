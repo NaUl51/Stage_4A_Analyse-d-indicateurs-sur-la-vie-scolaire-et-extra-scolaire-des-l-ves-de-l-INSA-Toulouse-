{
 "cells": [
  {
   "cell_type": "markdown",
   "id": "83ef908e-a1b9-4767-a038-0573c8f8044d",
   "metadata": {},
   "source": [
    "# ANALYSE D'INDICATEURS SUR LA VIE SCOLAIRE ET EXTRA-SCOLAIRE DES ÉLÈVES DE L'INSA TOULOUSE"
   ]
  },
  {
   "cell_type": "markdown",
   "id": "205d897f-7055-49ed-824c-ad406e34f69a",
   "metadata": {},
   "source": [
    "##À cette étape, je me suis basé sur les résultats du fichier Excel des trois membres de l'équipe qui ont travaillé sur le projet précédent. Nous utilisons une formule conditionnelle dans Excel ; si la valeur de la colonne est \"oui\", elle renverra le résultat correspondant à la valeur de cette colonne. Cependant, après vérification, j'ai constaté qu'ils n'ont pas pris en compte les données de certaines questions, comme COMMENTAIRE, COURSNOTES(TD), COURSNOTES(TP), CONCENTRATIONPERSO, LOISIRSIMPACT, PREPMETIER, DOUBLEDIPLOME. Ils ont expliqué que cela était dû au fait qu'ils estimaient que ces variables pouvaient avoir une forte corrélation avec une autre variable, ou que ces variables avaient un taux élevé de valeurs non affichées, ou que tous les résultats se concentraient sur une seule valeur, etc. I. Objectif\n",
    "\n",
    "Avec pour objectif d'aider tous les étudiants admis à obtenir leur diplôme quelle que soit leur origine sociale ou géographique, ou leur parcours scolaire avant d'entrer à l'INSA. Nous souhaitons donc pouvoir connaître les facteurs qui peuvent affecter la capacité de réussitte des étudiants afin de pouvoir trouver des solutions pour améliorer le taux de réussite des étudiants de l'INSA Toulouse."
   ]
  },
  {
   "cell_type": "markdown",
   "id": "b8adbab2-66c2-45f4-80c2-cf667f743727",
   "metadata": {},
   "source": [
    "## II. Préparer les données."
   ]
  },
  {
   "cell_type": "markdown",
   "id": "8904bccf-7fdd-4d02-9714-83a32ddf0a30",
   "metadata": {},
   "source": [
    "Nous avons les données collectées d'une enquête réalisée par des étudiants de l'INSA Toulouse en mai 2024, effectuée via l'application Limesurvey. Ensuite, nous avons un fichier Excel contenant des lignes représentant chaque étudiant et des colonnes correspondant aux réponses."
   ]
  },
  {
   "cell_type": "markdown",
   "id": "57433e9f-e729-471c-bed7-74708d80c2fb",
   "metadata": {},
   "source": [
    "### II.1 Construire un fichier de données à partir des résultats de l'enquête."
   ]
  },
  {
   "cell_type": "markdown",
   "id": "db9f49a0-12e5-41a7-9d98-52b7de2deeda",
   "metadata": {},
   "source": [
    "Comme la plupart des questions sont à choix multiples, la réponse à une question ne se trouve pas dans une colonne mais dans plusieurs colonnes. Nous devons donc convertir ces colonnes en une seule colonne."
   ]
  },
  {
   "cell_type": "markdown",
   "id": "4fdbd04c-8fc4-46d5-9b42-172c4ecf40a6",
   "metadata": {},
   "source": [
    "À cette étape, je me suis basé sur les résultats du fichier Excel des trois membres de l'équipe qui ont travaillé sur le projet précédent. Nous utilisons une formule conditionnelle dans Excel ; si la valeur de la colonne est \"oui\", elle renverra le résultat correspondant à la valeur de cette colonne. Cependant, après vérification, j'ai constaté qu'ils n'ont pas pris en compte les données de certaines questions, comme COMMENTAIRE, COURSNOTES(TD), COURSNOTES(TP), CONCENTRATIONPERSO, LOISIRSIMPACT, PREPMETIER, DOUBLEDIPLOME. Ils ont expliqué que cela était dû au fait qu'ils estimaient que ces variables pouvaient avoir une forte corrélation avec une autre variable, ou que ces variables avaient un taux élevé de valeurs non affichées, ou que tous les résultats se concentraient sur une seule valeur, etc. Mais je pense que cela n'est qu'une partie de leur ressenti, car ils n'ont pas utilisé de méthodes théoriques pour vérifier. Je souhaite donc utiliser tous les résultats des questions du sondage, vérifier le taux de données manquantes ou la corrélation des variables, puis les traiter ensuite.\n"
   ]
  },
  {
   "cell_type": "markdown",
   "id": "8f0024bc-5d75-4ac0-918a-d5b55acea844",
   "metadata": {},
   "source": [
    "En outre, pour les questions avec des valeurs de choix \"Autre\", où les répondants devaient entrer leur propre réponse, comme pour LOGEMENTTYPE, nous avons remarqué qu'il n'y avait pas beaucoup de valeurs \"Autre\". Nous avons donc regroupé manuellement ces valeurs \"Autre\" en catégories existantes. Par exemple, \"concubinage\", \"avec ma copine\", \"en couple\", \"avec mon frère\", \"chez un ami\" ont été regroupés sous \"colocation\", et \"CROUS\", \"Logement étudiant\", \"maison individuelle\" ont été regroupés sous \"seul\"."
   ]
  },
  {
   "cell_type": "markdown",
   "id": "5c6d45b4-a268-4e15-85a5-cb6ce92b6c71",
   "metadata": {},
   "source": [
    "Voici les résultats obtenus après le traitement des données sur Excel. Le fichier comprend 59 colonnes correspondant à 59 variables (sans compter la colonne ID) et 1182 lignes correspondant aux réponses de 1182 étudiants.\n"
   ]
  },
  {
   "cell_type": "code",
   "execution_count": 16,
   "id": "f2fde7b1-cb89-4292-8bcc-770689f6fd91",
   "metadata": {
    "tags": []
   },
   "outputs": [],
   "source": [
    "library(readxl)"
   ]
  },
  {
   "cell_type": "code",
   "execution_count": 27,
   "id": "d4ffb20b-4274-44e4-8ed3-5e251d36ed77",
   "metadata": {
    "tags": []
   },
   "outputs": [],
   "source": [
    "# Lire le fichier Excel \"results-survey278778.xlsx\" qui se trouve dans le même répertoire que le script R\n",
    "insa <- read_excel(\"results-survey278778.xlsx\")\n",
    "\n",
    "# Sélectionner les 53 premières colonnes\n",
    "insa <- insa[, 2:60]\n"
   ]
  },
  {
   "cell_type": "code",
   "execution_count": 28,
   "id": "abcb107b-3dbd-4178-9acd-4b72f617313a",
   "metadata": {
    "tags": []
   },
   "outputs": [
    {
     "name": "stdout",
     "output_type": "stream",
     "text": [
      "[1] 1182   59\n"
     ]
    }
   ],
   "source": [
    "# Afficher la taille du dataframe\n",
    "print(dim(insa))"
   ]
  },
  {
   "cell_type": "code",
   "execution_count": 29,
   "id": "c364bc80-908f-41e7-a76e-4216b1ef3796",
   "metadata": {
    "tags": []
   },
   "outputs": [
    {
     "name": "stdout",
     "output_type": "stream",
     "text": [
      "tibble [1,182 × 59] (S3: tbl_df/tbl/data.frame)\n",
      " $ TRAJET            : chr [1:1182] \"15-30min\" \"5-15min\" \"0-5min\" \"5-15min\" ...\n",
      " $ LOGEMENTTYPE      : chr [1:1182] \"seul\" \"seul\" \"seul\" \"seul\" ...\n",
      " $ LOGEMENTSURFACE   : chr [1:1182] \"+ 30m2\" \"+ 30m2\" \"10-20m2\" \"+ 30m2\" ...\n",
      " $ LOGEMENTBIEN      : chr [1:1182] \"tout à fait\" \"tout à fait\" \"plutôt oui\" \"tout à fait\" ...\n",
      " $ ACT_PRO           : chr [1:1182] \"aucune\" \"aucune\" \"aucune\" \"aucune\" ...\n",
      " $ BOURSIER          : chr [1:1182] \"non\" \"non\" \"non\" \"non\" ...\n",
      " $ Handicap          : chr [1:1182] \"non\" \"non\" \"non\" \"non\" ...\n",
      " $ TIERSTEMPS        : chr [1:1182] \"Non\" \"Non\" \"Non\" \"Non\" ...\n",
      " $ STRESS            : chr [1:1182] \"souvent\" \"souvent\" \"souvent\" \"toujours\" ...\n",
      " $ COMMENTAIRE       : chr [1:1182] \"jamais\" \"parfois\" \"parfois\" \"parfois\" ...\n",
      " $ COMCONSTRUCTIFS   : chr [1:1182] \"pas commentaire\" \"plutôt oui\" \"plutôt oui\" \"plutôt oui\" ...\n",
      " $ ETUDE_SEM         : chr [1:1182] \"0-1h\" \"+4h\" \"1-2h\" \"1-2h\" ...\n",
      " $ ETUDEWE           : chr [1:1182] \"2-4h\" \"2-4h\" \"4-6h\" \"6-8h\" ...\n",
      " $ ETUDEGROUPE       : chr [1:1182] \"jamais\" \"jamais\" \"parfois\" \"parfois\" ...\n",
      " $ ETUDEDEHORS       : chr [1:1182] \"souvent\" \"parfois\" \"parfois\" \"parfois\" ...\n",
      " $ ETUDEDOM          : chr [1:1182] \"parfois\" \"souvent\" \"souvent\" \"toujours\" ...\n",
      " $ PRESENCE_CM       : chr [1:1182] \"Souvent\" \"Toujours\" \"Toujours\" \"Toujours\" ...\n",
      " $ PRESENCE_TD       : chr [1:1182] \"Toujours\" \"Toujours\" \"Toujours\" \"Toujours\" ...\n",
      " $ PRESENCE_TP       : chr [1:1182] \"Toujours\" \"Toujours\" \"Toujours\" \"Toujours\" ...\n",
      " $ CONCENTRATION_CM  : chr [1:1182] \"Très peu concentré.e\" \"Totalement concentré.e\" \"Assez bien concentré.e\" \"Moyennement concentré.e\" ...\n",
      " $ CONCENTRATION_TD  : chr [1:1182] \"Moyennement concentré.e\" \"Totalement concentré.e\" \"Assez bien concentré.e\" \"Assez bien concentré.e\" ...\n",
      " $ CONCENTRATION_TP  : chr [1:1182] \"Assez bien concentré.e\" \"Assez bien concentré.e\" \"Assez bien concentré.e\" \"Assez bien concentré.e\" ...\n",
      " $ PREPCOURS_CM      : chr [1:1182] \"Jamais\" \"Jamais\" \"Parfois\" \"Parfois\" ...\n",
      " $ PREPCOURS_TD      : chr [1:1182] \"Jamais\" \"Souvent\" \"Souvent\" \"Parfois\" ...\n",
      " $ PREPCOURS_TP      : chr [1:1182] \"Jamais\" \"Souvent\" \"Parfois\" \"Souvent\" ...\n",
      " $ COURSNOTES_CM     : chr [1:1182] \"Parfois\" \"Toujours\" \"Souvent\" \"Toujours\" ...\n",
      " $ COURSNOTES_TD     : chr [1:1182] \"Toujours\" \"Toujours\" \"Souvent\" \"Toujours\" ...\n",
      " $ COURSNOTES_TP     : chr [1:1182] \"Parfois\" \"Toujours\" \"Jamais\" \"Toujours\" ...\n",
      " $ REVISIONSDEB      : chr [1:1182] \"2 semaines avant\" \"2 semaines avant\" \"1 mois avant\" \"2 semaines avant\" ...\n",
      " $ CONCENTRATIONPERSO: chr [1:1182] \"pas du tout\" \"très\" \"plutôt oui\" \"moyennement\" ...\n",
      " $ CONDITIONSTRAVAIL : chr [1:1182] \"très bonnes\" \"très bonnes\" \"moyennes\" \"plutôt bonnes\" ...\n",
      " $ RESSOURCES_SUP    : chr [1:1182] \"jamais\" \"régulièrement\" \"très souvent\" \"parfois\" ...\n",
      " $ AMIS              : chr [1:1182] \"régulièrement\" \"régulièrement\" \"jamais\" \"régulièrement\" ...\n",
      " $ FAMILLE           : chr [1:1182] \"parfois\" \"régulièrement\" \"parfois\" \"parfois\" ...\n",
      " $ ISOLEMENT         : chr [1:1182] \"souvent\" \"jamais\" \"parfois\" \"souvent\" ...\n",
      " $ ASSOCIATIF        : chr [1:1182] \"10-15h\" \"0-1h\" \"non\" \"1-5h\" ...\n",
      " $ ASSOCIATIF_POSITIF: chr [1:1182] \"tout à fait\" \"plutôt non\" \"pas d'asso\" \"plutôt oui\" ...\n",
      " $ ASSOCIATIFFATIGUE : chr [1:1182] \"tout à fait\" \"pas du tout\" \"pas d'asso\" \"plutôt non\" ...\n",
      " $ SPORTTEMPS        : chr [1:1182] \"0-1h\" \"3-6h\" \"1-3h\" \"1-3h\" ...\n",
      " $ SPECTACLES        : chr [1:1182] \"jamais\" \"1/mois\" \"jamais\" \"rarement\" ...\n",
      " $ SPECTACLES_POSITIF: chr [1:1182] \"pas de spectacles\" \"plutôt oui\" \"pas de spectacles\" \"tout à fait\" ...\n",
      " $ SORTIEBAR         : chr [1:1182] \"rarement\" \"1/semaine\" \"jamais\" \"jamais\" ...\n",
      " $ DETENTE           : chr [1:1182] \"régulièrement\" \"parfois\" \"parfois\" \"très souvent\" ...\n",
      " $ ECRANS            : chr [1:1182] \"4-6h\" \"1-2h\" \"2-4h\" \"2-4h\" ...\n",
      " $ SOMMEIL           : chr [1:1182] \"plutôt satisfaisante\" \"plutôt satisfaisante\" \"plutôt insatisfaisante\" \"plutôt insatisfaisante\" ...\n",
      " $ ALIMENTATION      : chr [1:1182] \"plutôt non\" \"tout à fait\" \"plutôt non\" \"plutôt oui\" ...\n",
      " $ MOTIVATION        : chr [1:1182] \"plutôt non\" \"tout à fait\" \"plutôt oui\" \"plutôt non\" ...\n",
      " $ SENSATIONREUSSITE : chr [1:1182] \"plutôt non\" \"tout à fait\" \"plutôt oui\" \"plutôt oui\" ...\n",
      " $ ADEQUATION        : chr [1:1182] \"plutôt oui\" \"tout à fait\" \"plutôt oui\" \"plutôt non\" ...\n",
      " $ PREPMETIER        : chr [1:1182] \"plutôt oui\" \"tout à fait\" \"plutôt oui\" \"plutôt oui\" ...\n",
      " $ PROMO             : chr [1:1182] \"4A\" \"4A\" \"4A\" \"4A\" ...\n",
      " $ SPECIALITE/PO     : chr [1:1182] \"GMM\" \"GMM\" \"GMM\" \"GB\" ...\n",
      " $ COHORTE           : chr [1:1182] \"classique\" \"classique\" \"classique\" \"classique\" ...\n",
      " $ INTEGRATION       : chr [1:1182] \"3A\" \"post-bac\" \"1A\" \"post-bac\" ...\n",
      " $ BACTYPE           : chr [1:1182] \"Fr\" \"Fr\" \"Fr\" \"Fr\" ...\n",
      " $ CLASSEMENT1A      : chr [1:1182] \"pas de classement\" \"0-10%\" \"50-75%\" \"25-50%\" ...\n",
      " $ CLASSEMENTDERNIER : chr [1:1182] \"25-50%\" \"0-10%\" \"25-50%\" \"10-25%\" ...\n",
      " $ REDOUBLEMENT      : chr [1:1182] \"Non\" \"Non\" \"Non\" \"Non\" ...\n",
      " $ RATTRAPAGES       : chr [1:1182] \"aucun\" \"aucun\" \"aucun\" \"aucun\" ...\n",
      "NULL\n"
     ]
    }
   ],
   "source": [
    "# Afficher les premières lignes du dataframe\n",
    "print(str(insa))"
   ]
  },
  {
   "cell_type": "markdown",
   "id": "bfa77ba2-70f3-4770-a4b6-ec8e603eae02",
   "metadata": {},
   "source": []
  },
  {
   "cell_type": "code",
   "execution_count": null,
   "id": "506a6284-7e72-4f3d-85dd-5835a40270d8",
   "metadata": {},
   "outputs": [],
   "source": []
  },
  {
   "cell_type": "markdown",
   "id": "34d8f196-2299-4761-a891-2a6172e1b8bb",
   "metadata": {},
   "source": []
  },
  {
   "cell_type": "markdown",
   "id": "d55d3f4e-5032-4218-a898-d2db03d58ac3",
   "metadata": {},
   "source": []
  },
  {
   "cell_type": "markdown",
   "id": "e7ccecd6-1d7d-4b0d-91a8-62528dc541b1",
   "metadata": {},
   "source": []
  },
  {
   "cell_type": "markdown",
   "id": "43bd0e34-57d8-4a66-a751-8484a3d4964e",
   "metadata": {},
   "source": []
  },
  {
   "cell_type": "markdown",
   "id": "c72129cf-a135-406c-9097-cc331bb25d4a",
   "metadata": {},
   "source": []
  },
  {
   "cell_type": "markdown",
   "id": "d61eacf6-e413-4709-b94b-10e2c9455578",
   "metadata": {},
   "source": []
  },
  {
   "cell_type": "code",
   "execution_count": 17,
   "id": "e6160ebc-4f78-4925-a06b-4689107e3f56",
   "metadata": {},
   "outputs": [],
   "source": [
    "library(forcats)\n",
    "library(readxl)\n",
    "library(ggplot2)\n",
    "library(gridExtra)\n",
    "library(dplyr)\n",
    "library(leaps)\n",
    "library(pROC)\n",
    "library(stats)\n",
    "library(bestglm)\n",
    "library(glmnet)\n",
    "library(ROCR)\n",
    "library(FactoMineR) \n",
    "library(factoextra)\n",
    "library(mclust)\n",
    "library(labelled)\n",
    "library(tidyverse)\n",
    "library(randomForest)\n",
    "library(caret)"
   ]
  },
  {
   "cell_type": "code",
   "execution_count": 18,
   "id": "d974dbdf-563c-4257-855a-990f54c712e4",
   "metadata": {},
   "outputs": [
    {
     "name": "stderr",
     "output_type": "stream",
     "text": [
      "\u001b[1m\u001b[22mNew names:\n",
      "\u001b[36m•\u001b[39m `Tiers_temps` -> `Tiers_temps...9`\n",
      "\u001b[36m•\u001b[39m `Presence_CM` -> `Presence_CM...16`\n",
      "\u001b[36m•\u001b[39m `Presence_TD` -> `Presence_TD...17`\n",
      "\u001b[36m•\u001b[39m `Presence_TP` -> `Presence_TP...18`\n",
      "\u001b[36m•\u001b[39m `Tiers_temps` -> `Tiers_temps...90`\n",
      "\u001b[36m•\u001b[39m `Presence_CM` -> `Presence_CM...133`\n",
      "\u001b[36m•\u001b[39m `Presence_TD` -> `Presence_TD...134`\n",
      "\u001b[36m•\u001b[39m `Presence_TP` -> `Presence_TP...135`\n",
      "\u001b[36m•\u001b[39m `` -> `...415`\n",
      "\u001b[36m•\u001b[39m `` -> `...416`\n",
      "\u001b[36m•\u001b[39m `` -> `...417`\n",
      "\u001b[36m•\u001b[39m `` -> `...418`\n",
      "\u001b[36m•\u001b[39m `` -> `...419`\n"
     ]
    },
    {
     "name": "stdout",
     "output_type": "stream",
     "text": [
      "'data.frame':\t1185 obs. of  52 variables:\n",
      " $ trajet               : chr  \"15-30min\" \"5-15min\" \"0-5min\" \"5-15min\" ...\n",
      " $ logement             : chr  \"seul\" \"seul\" \"seul\" \"seul\" ...\n",
      " $ surf_logement        : chr  \"+ 30m2\" \"+ 30m2\" \"10-20m2\" \"+ 30m2\" ...\n",
      " $ sent_logement        : chr  \"tout à fait\" \"tout à fait\" \"plutôt oui\" \"tout à fait\" ...\n",
      " $ act_pro              : chr  \"aucune\" \"aucune\" \"aucune\" \"aucune\" ...\n",
      " $ Bourse               : chr  \"echelon 1-3\" \"non\" \"non\" \"non\" ...\n",
      " $ handicap             : chr  \"non\" \"non\" \"non\" \"non\" ...\n",
      " $ Tiers_temps...9      : chr  \"Non\" \"Non\" \"Non\" \"Non\" ...\n",
      " $ Stress               : chr  \"souvent\" \"souvent\" \"souvent\" \"toujours\" ...\n",
      " $ travail_sem          : chr  \"0-1h\" \"+4h\" \"1-2h\" \"1-2h\" ...\n",
      " $ travail_wek          : chr  \"2-4h\" \"2-4h\" \"4-6h\" \"6-8h\" ...\n",
      " $ Travail_groupe       : chr  \"jamais\" \"jamais\" \"parfois\" \"parfois\" ...\n",
      " $ Travail_ext          : chr  \"souvent\" \"parfois\" \"parfois\" \"parfois\" ...\n",
      " $ Travail_dom          : chr  \"parfois\" \"souvent\" \"souvent\" \"toujours\" ...\n",
      " $ Presence_CM...16     : chr  \"Souvent\" \"Toujours\" \"Toujours\" \"Toujours\" ...\n",
      " $ Presence_TD...17     : chr  \"Toujours\" \"Toujours\" \"Toujours\" \"Toujours\" ...\n",
      " $ Presence_TP...18     : chr  \"Toujours\" \"Toujours\" \"Toujours\" \"Toujours\" ...\n",
      " $ Notes_cours          : chr  \"Parfois\" \"Toujours\" \"Souvent\" \"Toujours\" ...\n",
      " $ Concentration_CM     : chr  \"Très peu concentré.e\" \"Totalement concentré.e\" \"Assez bien concentré.e\" \"Moyennement concentré.e\" ...\n",
      " $ Concentration_TD     : chr  \"Moyennement concentré.e\" \"Totalement concentré.e\" \"Assez bien concentré.e\" \"Assez bien concentré.e\" ...\n",
      " $ Concentration_TP     : chr  \"Assez bien concentré.e\" \"Assez bien concentré.e\" \"Assez bien concentré.e\" \"Assez bien concentré.e\" ...\n",
      " $ Prep_CM              : chr  \"Jamais\" \"Jamais\" \"Parfois\" \"Parfois\" ...\n",
      " $ Prep_TD              : chr  \"Jamais\" \"Souvent\" \"Souvent\" \"Parfois\" ...\n",
      " $ Prep_TP              : chr  \"Jamais\" \"Souvent\" \"Parfois\" \"Souvent\" ...\n",
      " $ revisions            : chr  \"2 semaines avant\" \"2 semaines avant\" \"1 mois avant\" \"2 semaines avant\" ...\n",
      " $ efficacite           : chr  \"pas du tout\" \"très\" \"plutôt oui\" \"moyennement\" ...\n",
      " $ travail_cond         : chr  \"très bonnes\" \"très bonnes\" \"moyennes\" \"plutôt bonnes\" ...\n",
      " $ ressources_sup       : chr  \"jamais\" \"régulièrement\" \"très souvent\" \"parfois\" ...\n",
      " $ Amis                 : chr  \"régulièrement\" \"régulièrement\" \"jamais\" \"régulièrement\" ...\n",
      " $ Famille              : chr  \"parfois\" \"régulièrement\" \"parfois\" \"parfois\" ...\n",
      " $ isol                 : chr  \"souvent\" \"jamais\" \"parfois\" \"souvent\" ...\n",
      " $ associatif           : chr  \"10-15h\" \"0-1h\" \"non\" \"1-5h\" ...\n",
      " $ associatif_bien_etre : chr  \"tout à fait\" \"plutôt non\" \"pas d'asso\" \"plutôt oui\" ...\n",
      " $ associatif_fatigue   : chr  \"tout à fait\" \"pas du tout\" \"pas d'asso\" \"plutôt non\" ...\n",
      " $ sport                : chr  \"0-1h\" \"3-6h\" \"1-3h\" \"1-3h\" ...\n",
      " $ Frequence_spectacle  : chr  \"jamais\" \"1/mois\" \"jamais\" \"rarement\" ...\n",
      " $ Frequence_bar/boite  : chr  \"rarement\" \"1/semaine\" \"jamais\" \"jamais\" ...\n",
      " $ detente              : chr  \"régulièrement\" \"parfois\" \"parfois\" \"très souvent\" ...\n",
      " $ ecrans               : chr  \"4-6h\" \"1-2h\" \"2-4h\" \"2-4h\" ...\n",
      " $ sommeil              : chr  \"plutôt satisfaisante\" \"plutôt satisfaisante\" \"plutôt insatisfaisante\" \"plutôt insatisfaisante\" ...\n",
      " $ alimentation         : chr  \"plutôt non\" \"tout à fait\" \"plutôt non\" \"plutôt oui\" ...\n",
      " $ Motivation           : chr  \"plutôt non\" \"tout à fait\" \"plutôt oui\" \"plutôt non\" ...\n",
      " $ Sensation_reussite   : chr  \"plutôt non\" \"tout à fait\" \"plutôt oui\" \"plutôt oui\" ...\n",
      " $ Adequation_projet_pro: chr  \"plutôt oui\" \"tout à fait\" \"plutôt oui\" \"plutôt non\" ...\n",
      " $ Promo                : chr  \"4A\" \"4A\" \"4A\" \"4A\" ...\n",
      " $ Spe/PO               : chr  \"GMM\" \"GMM\" \"GMM\" \"GB\" ...\n",
      " $ Cohorte              : chr  \"classique\" \"classique\" \"classique\" \"classique\" ...\n",
      " $ Bac_origine          : chr  \"Fr\" \"Fr\" \"Fr\" \"Fr\" ...\n",
      " $ Resultat_1A          : chr  \"pas de classement\" \"0-10%\" \"50-75%\" \"25-50%\" ...\n",
      " $ Resultat_preced      : chr  \"25-50%\" \"0-10%\" \"25-50%\" \"10-25%\" ...\n",
      " $ Redoublement         : chr  \"Non\" \"Non\" \"Non\" \"Non\" ...\n",
      " $ Rattrapages          : chr  \"aucun\" \"aucun\" \"aucun\" \"aucun\" ...\n"
     ]
    }
   ],
   "source": [
    "insa <- read_excel(\"./survey.xlsx\")\n",
    "insa <- as.data.frame(insa)\n",
    "insa <- insa[,2:53]\n",
    "\n",
    "str(insa)"
   ]
  },
  {
   "cell_type": "code",
   "execution_count": 21,
   "id": "e6774489-ebb8-461c-b41c-dec8ee920206",
   "metadata": {},
   "outputs": [
    {
     "name": "stdout",
     "output_type": "stream",
     "text": [
      "'data.frame':\t1185 obs. of  52 variables:\n",
      " $ trajet               : chr  \"15-30min\" \"5-15min\" \"0-5min\" \"5-15min\" ...\n",
      " $ logement             : chr  \"seul\" \"seul\" \"seul\" \"seul\" ...\n",
      " $ surf_logement        : chr  \"+ 30m2\" \"+ 30m2\" \"10-20m2\" \"+ 30m2\" ...\n",
      " $ sent_logement        : chr  \"tout à fait\" \"tout à fait\" \"plutôt oui\" \"tout à fait\" ...\n",
      " $ act_pro              : chr  \"aucune\" \"aucune\" \"aucune\" \"aucune\" ...\n",
      " $ Bourse               : chr  \"echelon 1-3\" \"non\" \"non\" \"non\" ...\n",
      " $ handicap             : chr  \"non\" \"non\" \"non\" \"non\" ...\n",
      " $ Tiers_temps...9      : chr  \"Non\" \"Non\" \"Non\" \"Non\" ...\n",
      " $ Stress               : chr  \"souvent\" \"souvent\" \"souvent\" \"toujours\" ...\n",
      " $ travail_sem          : chr  \"0-1h\" \"+4h\" \"1-2h\" \"1-2h\" ...\n",
      " $ travail_wek          : chr  \"2-4h\" \"2-4h\" \"4-6h\" \"6-8h\" ...\n",
      " $ Travail_groupe       : chr  \"jamais\" \"jamais\" \"parfois\" \"parfois\" ...\n",
      " $ Travail_ext          : chr  \"souvent\" \"parfois\" \"parfois\" \"parfois\" ...\n",
      " $ Travail_dom          : chr  \"parfois\" \"souvent\" \"souvent\" \"toujours\" ...\n",
      " $ Presence_CM...16     : chr  \"Souvent\" \"Toujours\" \"Toujours\" \"Toujours\" ...\n",
      " $ Presence_TD...17     : chr  \"Toujours\" \"Toujours\" \"Toujours\" \"Toujours\" ...\n",
      " $ Presence_TP...18     : chr  \"Toujours\" \"Toujours\" \"Toujours\" \"Toujours\" ...\n",
      " $ Notes_cours          : chr  \"Parfois\" \"Toujours\" \"Souvent\" \"Toujours\" ...\n",
      " $ Concentration_CM     : chr  \"Très peu concentré.e\" \"Totalement concentré.e\" \"Assez bien concentré.e\" \"Moyennement concentré.e\" ...\n",
      " $ Concentration_TD     : chr  \"Moyennement concentré.e\" \"Totalement concentré.e\" \"Assez bien concentré.e\" \"Assez bien concentré.e\" ...\n",
      " $ Concentration_TP     : chr  \"Assez bien concentré.e\" \"Assez bien concentré.e\" \"Assez bien concentré.e\" \"Assez bien concentré.e\" ...\n",
      " $ Prep_CM              : chr  \"Jamais\" \"Jamais\" \"Parfois\" \"Parfois\" ...\n",
      " $ Prep_TD              : chr  \"Jamais\" \"Souvent\" \"Souvent\" \"Parfois\" ...\n",
      " $ Prep_TP              : chr  \"Jamais\" \"Souvent\" \"Parfois\" \"Souvent\" ...\n",
      " $ revisions            : chr  \"2 semaines avant\" \"2 semaines avant\" \"1 mois avant\" \"2 semaines avant\" ...\n",
      " $ efficacite           : chr  \"pas du tout\" \"très\" \"plutôt oui\" \"moyennement\" ...\n",
      " $ travail_cond         : chr  \"très bonnes\" \"très bonnes\" \"moyennes\" \"plutôt bonnes\" ...\n",
      " $ ressources_sup       : chr  \"jamais\" \"régulièrement\" \"très souvent\" \"parfois\" ...\n",
      " $ Amis                 : chr  \"régulièrement\" \"régulièrement\" \"jamais\" \"régulièrement\" ...\n",
      " $ Famille              : chr  \"parfois\" \"régulièrement\" \"parfois\" \"parfois\" ...\n",
      " $ isol                 : chr  \"souvent\" \"jamais\" \"parfois\" \"souvent\" ...\n",
      " $ associatif           : chr  \"10-15h\" \"0-1h\" \"non\" \"1-5h\" ...\n",
      " $ associatif_bien_etre : chr  \"tout à fait\" \"plutôt non\" \"pas d'asso\" \"plutôt oui\" ...\n",
      " $ associatif_fatigue   : chr  \"tout à fait\" \"pas du tout\" \"pas d'asso\" \"plutôt non\" ...\n",
      " $ sport                : chr  \"0-1h\" \"3-6h\" \"1-3h\" \"1-3h\" ...\n",
      " $ Frequence_spectacle  : chr  \"jamais\" \"1/mois\" \"jamais\" \"rarement\" ...\n",
      " $ Frequence_bar/boite  : chr  \"rarement\" \"1/semaine\" \"jamais\" \"jamais\" ...\n",
      " $ detente              : chr  \"régulièrement\" \"parfois\" \"parfois\" \"très souvent\" ...\n",
      " $ ecrans               : chr  \"4-6h\" \"1-2h\" \"2-4h\" \"2-4h\" ...\n",
      " $ sommeil              : chr  \"plutôt satisfaisante\" \"plutôt satisfaisante\" \"plutôt insatisfaisante\" \"plutôt insatisfaisante\" ...\n",
      " $ alimentation         : chr  \"plutôt non\" \"tout à fait\" \"plutôt non\" \"plutôt oui\" ...\n",
      " $ Motivation           : chr  \"plutôt non\" \"tout à fait\" \"plutôt oui\" \"plutôt non\" ...\n",
      " $ Sensation_reussite   : chr  \"plutôt non\" \"tout à fait\" \"plutôt oui\" \"plutôt oui\" ...\n",
      " $ Adequation_projet_pro: chr  \"plutôt oui\" \"tout à fait\" \"plutôt oui\" \"plutôt non\" ...\n",
      " $ Promo                : chr  \"4A\" \"4A\" \"4A\" \"4A\" ...\n",
      " $ Spe/PO               : chr  \"GMM\" \"GMM\" \"GMM\" \"GB\" ...\n",
      " $ Cohorte              : chr  \"classique\" \"classique\" \"classique\" \"classique\" ...\n",
      " $ Bac_origine          : chr  \"Fr\" \"Fr\" \"Fr\" \"Fr\" ...\n",
      " $ Resultat_1A          : chr  \"pas de classement\" \"0-10%\" \"50-75%\" \"25-50%\" ...\n",
      " $ Resultat_preced      : chr  \"25-50%\" \"0-10%\" \"25-50%\" \"10-25%\" ...\n",
      " $ Redoublement         : chr  \"Non\" \"Non\" \"Non\" \"Non\" ...\n",
      " $ Rattrapages          : chr  \"aucun\" \"aucun\" \"aucun\" \"aucun\" ...\n"
     ]
    }
   ],
   "source": [
    "# Fonction pour convertir les colonnes en facteur avec des niveaux triés\n",
    "convert_to_factor <- function(data, column, levels_order) {\n",
    "    data[[column]] <- factor(data[[column]], levels = levels_order, ordered = TRUE)\n",
    "}\n",
    "\n",
    "# Définir l'ordre des niveaux pour des variables spécifiques\n",
    "levels_list <- list(\n",
    "    trajet = c(\"0-5min\", \"5-15min\", \"15-30min\", \"30-45min\", \"45-60min\", \">60min\"),\n",
    "    logement = c(\"seul\", \"colocation\", \"famille\", \"couple\"),\n",
    "    surf_logement = c(\"-10m2\", \"10-20m2\", \"20-30m2\", \"+ 30m2\"),\n",
    "    sent_logement = c(\"pas du tout\", \"plutôt non\", \"plutôt oui\", \"tout à fait\"),\n",
    "    act_pro = c(\"aucune\", \"CDD\", \"CDI\", \"indépendant\"),\n",
    "    Bourse = c(\"non\", \"echelon 0\", \"echelon 1-3\", \"echelon 4-6\"),\n",
    "    handicap = c(\"non\", \"oui\"),\n",
    "    Tiers_temps = c(\"Non\", \"Oui\"),\n",
    "    Stress = c(\"jamais\", \"rarement\", \"parfois\", \"souvent\", \"toujours\"),\n",
    "    travail_sem = c(\"0-1h\", \"1-2h\", \"2-3h\", \"3-4h\", \"4-5h\", \"5-6h\", \"6h et plus\"),\n",
    "    travail_wek = c(\"0-1h\", \"1-2h\", \"2-3h\", \"3-4h\", \"4-5h\", \"5-6h\", \"6h et plus\"),\n",
    "    Travail_groupe = c(\"jamais\", \"rarement\", \"parfois\", \"souvent\", \"toujours\"),\n",
    "    Travail_ext = c(\"jamais\", \"rarement\", \"parfois\", \"souvent\", \"toujours\"),\n",
    "    Travail_dom = c(\"jamais\", \"rarement\", \"parfois\", \"souvent\", \"toujours\"),\n",
    "    Presence_CM = c(\"Jamais\", \"Rarement\", \"Parfois\", \"Souvent\", \"Toujours\"),\n",
    "    Presence_TD = c(\"Jamais\", \"Rarement\", \"Parfois\", \"Souvent\", \"Toujours\"),\n",
    "    Presence_TP = c(\"Jamais\", \"Rarement\", \"Parfois\", \"Souvent\", \"Toujours\"),\n",
    "    Notes_cours = c(\"Jamais\", \"Rarement\", \"Parfois\", \"Souvent\", \"Toujours\"),\n",
    "    Concentration_CM = c(\"Pas du tout concentré.e\", \"Très peu concentré.e\", \"Moyennement concentré.e\", \"Assez bien concentré.e\", \"Totalement concentré.e\"),\n",
    "    Concentration_TD = c(\"Pas du tout concentré.e\", \"Très peu concentré.e\", \"Moyennement concentré.e\", \"Assez bien concentré.e\", \"Totalement concentré.e\"),\n",
    "    Concentration_TP = c(\"Pas du tout concentré.e\", \"Très peu concentré.e\", \"Moyennement concentré.e\", \"Assez bien concentré.e\", \"Totalement concentré.e\"),\n",
    "    Prep_CM = c(\"Jamais\", \"Rarement\", \"Parfois\", \"Souvent\", \"Toujours\"),\n",
    "    Prep_TD = c(\"Jamais\", \"Rarement\", \"Parfois\", \"Souvent\", \"Toujours\"),\n",
    "    Prep_TP = c(\"Jamais\", \"Rarement\", \"Parfois\", \"Souvent\", \"Toujours\"),\n",
    "    revisions = c(\"1 jour avant\", \"1 semaine avant\", \"2 semaines avant\", \"1 mois avant\", \"plus d'un mois avant\"),\n",
    "    efficacite = c(\"pas du tout\", \"plutôt non\", \"moyennement\", \"plutôt oui\", \"très\"),\n",
    "    travail_cond = c(\"très mauvaises\", \"mauvaises\", \"moyennes\", \"plutôt bonnes\", \"très bonnes\"),\n",
    "    ressources_sup = c(\"jamais\", \"rarement\", \"parfois\", \"souvent\", \"très souvent\"),\n",
    "    Amis = c(\"jamais\", \"rarement\", \"parfois\", \"souvent\", \"très souvent\"),\n",
    "    Famille = c(\"jamais\", \"rarement\", \"parfois\", \"souvent\", \"très souvent\"),\n",
    "    isol = c(\"jamais\", \"rarement\", \"parfois\", \"souvent\", \"toujours\"),\n",
    "    associatif = c(\"non\", \"0-1h\", \"1-5h\", \"5-10h\", \"10-15h\", \"15-20h\", \"20h et plus\"),\n",
    "    associatif_bien_etre = c(\"pas d'asso\", \"pas du tout\", \"plutôt non\", \"moyennement\", \"plutôt oui\", \"tout à fait\"),\n",
    "    associatif_fatigue = c(\"pas d'asso\", \"pas du tout\", \"plutôt non\", \"moyennement\", \"plutôt oui\", \"tout à fait\"),\n",
    "    sport = c(\"non\", \"0-1h\", \"1-3h\", \"3-6h\", \"6-9h\", \"plus de 9h\"),\n",
    "    Frequence_spectacle = c(\"jamais\", \"rarement\", \"1/mois\", \"2-3/mois\", \"1/semaine\", \"plusieurs fois/semaine\"),\n",
    "    Frequence_bar_boite = c(\"jamais\", \"rarement\", \"1/mois\", \"2-3/mois\", \"1/semaine\", \"plusieurs fois/semaine\"),\n",
    "    detente = c(\"jamais\", \"rarement\", \"parfois\", \"souvent\", \"très souvent\"),\n",
    "    ecrans = c(\"moins de 1h\", \"1-2h\", \"2-4h\", \"4-6h\", \"6-8h\", \"8-10h\", \"plus de 10h\"),\n",
    "    sommeil = c(\"très insatisfaisante\", \"plutôt insatisfaisante\", \"plutôt satisfaisante\", \"très satisfaisante\"),\n",
    "    alimentation = c(\"pas du tout\", \"plutôt non\", \"plutôt oui\", \"tout à fait\"),\n",
    "    Motivation = c(\"pas du tout\", \"plutôt non\", \"plutôt oui\", \"tout à fait\"),\n",
    "    Sensation_reussite = c(\"pas du tout\", \"plutôt non\", \"plutôt oui\", \"tout à fait\"),\n",
    "    Adequation_projet_pro = c(\"pas du tout\", \"plutôt non\", \"plutôt oui\", \"tout à fait\"),\n",
    "    Promo = c(\"1A\", \"2A\", \"3A\", \"4A\", \"5A\"),\n",
    "    Spe_PO = c(\"GB\", \"GMM\", \"GPE\", \"GIT\", \"GE\"),\n",
    "    Cohorte = c(\"classique\", \"alternant\", \"apprenti\"),\n",
    "    Bac_origine = c(\"Fr\", \"Etr\", \"Autre\"),\n",
    "    Resultat_1A = c(\"0-10%\", \"10-25%\", \"25-50%\", \"50-75%\", \"75-100%\", \"pas de classement\"),\n",
    "    Resultat_preced = c(\"0-10%\", \"10-25%\", \"25-50%\", \"50-75%\", \"75-100%\"),\n",
    "    Redoublement = c(\"Non\", \"Oui\"),\n",
    "    Rattrapages = c(\"aucun\", \"1-2\", \"3-5\", \"plus de 5\")\n",
    ")\n",
    "\n",
    "# Appliquer la fonction de conversion à toutes les colonnes 2 à 53\n",
    "for (col in colnames(insa)) {\n",
    "    if (col %in% names(levels_list)) {\n",
    "        convert_to_factor(insa, col, levels_list[[col]])\n",
    "    }\n",
    "}\n",
    "\n",
    "# Revérifiez la structure des données après la conversion\n",
    "str(insa)\n"
   ]
  },
  {
   "cell_type": "code",
   "execution_count": null,
   "id": "1854f4ee-e5c4-40ad-98ff-cc099ed88ae9",
   "metadata": {},
   "outputs": [],
   "source": []
  }
 ],
 "metadata": {
  "kernelspec": {
   "display_name": "R",
   "language": "R",
   "name": "ir"
  },
  "language_info": {
   "codemirror_mode": "r",
   "file_extension": ".r",
   "mimetype": "text/x-r-source",
   "name": "R",
   "pygments_lexer": "r",
   "version": "4.4.1"
  }
 },
 "nbformat": 4,
 "nbformat_minor": 5
}
